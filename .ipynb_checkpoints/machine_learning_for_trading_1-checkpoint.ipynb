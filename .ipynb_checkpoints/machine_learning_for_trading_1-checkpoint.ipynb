{
 "cells": [
  {
   "cell_type": "code",
   "execution_count": 95,
   "id": "1065c0c2",
   "metadata": {},
   "outputs": [],
   "source": [
    "import pandas as pd\n",
    "import matplotlib.pyplot as plt\n",
    "%matplotlib inline\n",
    "import numpy as np\n",
    "import time"
   ]
  },
  {
   "cell_type": "code",
   "execution_count": null,
   "id": "22ce6e12",
   "metadata": {},
   "outputs": [],
   "source": []
  },
  {
   "cell_type": "markdown",
   "id": "2f3f7e58",
   "metadata": {},
   "source": [
    "## Scatterplots"
   ]
  },
  {
   "cell_type": "code",
   "execution_count": 77,
   "id": "9b722abf",
   "metadata": {},
   "outputs": [],
   "source": [
    "#df1"
   ]
  },
  {
   "cell_type": "code",
   "execution_count": 68,
   "id": "0c47943f",
   "metadata": {},
   "outputs": [],
   "source": [
    "df_scatter = pd.DataFrame(index=df1.index)\n",
    "df_scatter['SPY'] = df1['SPY']"
   ]
  },
  {
   "cell_type": "code",
   "execution_count": 69,
   "id": "a220ac3a",
   "metadata": {},
   "outputs": [],
   "source": [
    "df_scatter['SPY_dr'] = compute_daily_returns(df1['SPY'])"
   ]
  },
  {
   "cell_type": "code",
   "execution_count": 73,
   "id": "5e68027c",
   "metadata": {},
   "outputs": [],
   "source": [
    "df_scatter['GLD'] = df1['GLD']\n",
    "#df_scatter"
   ]
  },
  {
   "cell_type": "code",
   "execution_count": 75,
   "id": "1328b0f0",
   "metadata": {},
   "outputs": [],
   "source": [
    "df_scatter['GLD_dr'] = compute_daily_returns(df1['GLD'])\n",
    "#df_scatter"
   ]
  },
  {
   "cell_type": "code",
   "execution_count": 97,
   "id": "222f715a",
   "metadata": {},
   "outputs": [],
   "source": [
    "df_scatter['IBM'] = df1['IBM']\n",
    "df_scatter['IBM_dr'] = compute_daily_returns(df1['IBM'])\n",
    "#df_scatter"
   ]
  },
  {
   "cell_type": "code",
   "execution_count": 96,
   "id": "e9f065a5",
   "metadata": {},
   "outputs": [],
   "source": [
    "#plt.scatter(x=df_scatter['SPY_dr'], y=df_scatter['GLD_dr'], s=5)\n",
    "#plt.xlabel(\"SPY Daily Returns\")\n",
    "#plt.ylabel(\"GLD Daily Returns\")"
   ]
  },
  {
   "cell_type": "code",
   "execution_count": 129,
   "id": "bf9fdba4",
   "metadata": {},
   "outputs": [
    {
     "name": "stdout",
     "output_type": "stream",
     "text": [
      "slope, beta:  0.0007103722357321724 , y-intercept, alpha:  0.0031977775295685073\n"
     ]
    },
    {
     "data": {
      "text/plain": [
       "Text(0, 0.5, 'IBM Daily Returns')"
      ]
     },
     "execution_count": 129,
     "metadata": {},
     "output_type": "execute_result"
    },
    {
     "data": {
      "image/png": "[encoded data removed]",
      "text/plain": [
       "<Figure size 432x288 with 1 Axes>"
      ]
     },
     "metadata": {
      "needs_background": "light"
     },
     "output_type": "display_data"
    }
   ],
   "source": [
    "plt.scatter(x=df_scatter['SPY_dr'], y=df_scatter['IBM_dr'], s=5)\n",
    "\n",
    "beta_IBM, alpha_IBM = np.polynomial.polynomial.Polynomial.fit(df_scatter['SPY'], df_scatter['IBM_dr'],1)\n",
    "print('slope, beta: ',beta_IBM, ', y-intercept, alpha: ' ,alpha_IBM)\n",
    "\n",
    "plt.plot(df_scatter['SPY_dr'], beta_IBM*df_scatter['SPY_dr'] + alpha_IBM, '-', color='r')\n",
    "\n",
    "plt.xlabel(\"SPY Daily Returns\")\n",
    "plt.ylabel(\"IBM Daily Returns\")"
   ]
  },
  {
   "cell_type": "code",
   "execution_count": null,
   "id": "7a126792",
   "metadata": {},
   "outputs": [],
   "source": []
  },
  {
   "cell_type": "code",
   "execution_count": null,
   "id": "08cea522",
   "metadata": {},
   "outputs": [],
   "source": []
  },
  {
   "cell_type": "markdown",
   "id": "1ae28db9",
   "metadata": {},
   "source": [
    "## Histograms"
   ]
  },
  {
   "cell_type": "code",
   "execution_count": 14,
   "id": "36014b2b",
   "metadata": {},
   "outputs": [],
   "source": [
    "df_histo = pd.read_csv(\"csv_data/SPY.csv\", index_col = \"Date\", \n",
    "                    parse_dates=True, usecols = ['Date','Adj Close'],\n",
    "                    na_values=['nan']) "
   ]
  },
  {
   "cell_type": "code",
   "execution_count": 54,
   "id": "3e369467",
   "metadata": {},
   "outputs": [],
   "source": [
    "def compute_daily_returns(big_df):\n",
    "    # Compute daily returns of stock data\n",
    "    daily_returns = big_df.copy()\n",
    "    daily_returns[1:] = (big_df[1:] / big_df[:-1].values) - 1\n",
    "    daily_returns.iloc[0] = 0\n",
    "    return daily_returns"
   ]
  },
  {
   "cell_type": "code",
   "execution_count": 16,
   "id": "acbd9d84",
   "metadata": {},
   "outputs": [
    {
     "data": {
      "text/plain": [
       "[<matplotlib.lines.Line2D at 0x7f8ab4ab3490>]"
      ]
     },
     "execution_count": 16,
     "metadata": {},
     "output_type": "execute_result"
    },
    {
     "data": {
      "image/png": "[encoded data removed]",
      "text/plain": [
       "<Figure size 432x288 with 1 Axes>"
      ]
     },
     "metadata": {
      "needs_background": "light"
     },
     "output_type": "display_data"
    }
   ],
   "source": [
    "my_daily_returns = compute_daily_returns(df_histo)\n",
    "plt.plot(my_daily_returns)"
   ]
  },
  {
   "cell_type": "code",
   "execution_count": null,
   "id": "76fffdd7",
   "metadata": {},
   "outputs": [],
   "source": []
  },
  {
   "cell_type": "code",
   "execution_count": 17,
   "id": "2065662d",
   "metadata": {},
   "outputs": [
    {
     "name": "stdout",
     "output_type": "stream",
     "text": [
      "Adj Close    0.000331\n",
      "dtype: float64\n",
      "Adj Close    0.012533\n",
      "dtype: float64\n"
     ]
    }
   ],
   "source": [
    "mean_spy_dr = my_daily_returns.mean()\n",
    "print(mean_spy_dr)\n",
    "std_spy_dr  = my_daily_returns.std()\n",
    "print(std_spy_dr)"
   ]
  },
  {
   "cell_type": "code",
   "execution_count": null,
   "id": "ee0e6de2",
   "metadata": {},
   "outputs": [],
   "source": []
  },
  {
   "cell_type": "code",
   "execution_count": 18,
   "id": "373dedf0",
   "metadata": {},
   "outputs": [
    {
     "name": "stdout",
     "output_type": "stream",
     "text": [
      "0\n",
      "0\n"
     ]
    },
    {
     "data": {
      "image/png": "[encoded data removed]",
      "text/plain": [
       "<Figure size 432x288 with 1 Axes>"
      ]
     },
     "metadata": {
      "needs_background": "light"
     },
     "output_type": "display_data"
    }
   ],
   "source": [
    "plt.hist(my_daily_returns, bins = 50)\n",
    "print(int(mean_spy_dr))\n",
    "plt.axvline(float(mean_spy_dr), color='w', linestyle='dashed', linewidth = 1)\n",
    "print(int(std_spy_dr))\n",
    "plt.axvline(float(std_spy_dr), color='r', linestyle='dashed', linewidth = 1)\n",
    "plt.axvline(float(-std_spy_dr), color='r', linestyle='dashed', linewidth = 1)\n",
    "plt.show()"
   ]
  },
  {
   "cell_type": "code",
   "execution_count": 19,
   "id": "c4fdf4b9",
   "metadata": {},
   "outputs": [
    {
     "name": "stdout",
     "output_type": "stream",
     "text": [
      "Adj Close    12.237061\n",
      "dtype: float64\n"
     ]
    }
   ],
   "source": [
    "print(my_daily_returns.kurtosis())"
   ]
  },
  {
   "cell_type": "code",
   "execution_count": null,
   "id": "91e48f2e",
   "metadata": {},
   "outputs": [],
   "source": []
  },
  {
   "cell_type": "markdown",
   "id": "b2e5ee1e",
   "metadata": {},
   "source": [
    "## Incomplete Data - Back Filling - Forward Filling"
   ]
  },
  {
   "cell_type": "code",
   "execution_count": 20,
   "id": "7e2d94b5",
   "metadata": {},
   "outputs": [],
   "source": [
    "df_fake2 = pd.read_csv(\"csv_data/FAKE2.csv\", index_col = \"Date\", \n",
    "                    parse_dates=True, usecols = ['Date','Adj Close'],\n",
    "                    na_values=['nan']) "
   ]
  },
  {
   "cell_type": "code",
   "execution_count": 21,
   "id": "2fa1ff7f",
   "metadata": {},
   "outputs": [
    {
     "data": {
      "text/plain": [
       "Text(0.5, 1.0, 'Incomplete data of FAKE2')"
      ]
     },
     "execution_count": 21,
     "metadata": {},
     "output_type": "execute_result"
    },
    {
     "data": {
      "image/png": "[encoded data removed]",
      "text/plain": [
       "<Figure size 432x288 with 1 Axes>"
      ]
     },
     "metadata": {
      "needs_background": "light"
     },
     "output_type": "display_data"
    }
   ],
   "source": [
    "plt.plot(df_fake2)\n",
    "plt.xlabel(\"Dates\")\n",
    "plt.ylabel(\"Price\")\n",
    "plt.title(\"Incomplete data of FAKE2\")"
   ]
  },
  {
   "cell_type": "code",
   "execution_count": 22,
   "id": "789c5359",
   "metadata": {},
   "outputs": [
    {
     "data": {
      "text/plain": [
       "[<matplotlib.lines.Line2D at 0x7f8ab3d4be20>]"
      ]
     },
     "execution_count": 22,
     "metadata": {},
     "output_type": "execute_result"
    },
    {
     "data": {
      "image/png": "[encoded data removed]",
      "text/plain": [
       "<Figure size 432x288 with 1 Axes>"
      ]
     },
     "metadata": {
      "needs_background": "light"
     },
     "output_type": "display_data"
    }
   ],
   "source": [
    "df_fake2.fillna(method='ffill', inplace=True)\n",
    "plt.plot(df_fake2)"
   ]
  },
  {
   "cell_type": "code",
   "execution_count": null,
   "id": "87c93fc6",
   "metadata": {},
   "outputs": [],
   "source": []
  },
  {
   "cell_type": "markdown",
   "id": "fe2b6ac3",
   "metadata": {},
   "source": [
    "## Computing rolling statistics"
   ]
  },
  {
   "cell_type": "code",
   "execution_count": 55,
   "id": "b31d79b2",
   "metadata": {},
   "outputs": [
    {
     "data": {
      "text/html": [
       "<div>\n",
       "<style scoped>\n",
       "    .dataframe tbody tr th:only-of-type {\n",
       "        vertical-align: middle;\n",
       "    }\n",
       "\n",
       "    .dataframe tbody tr th {\n",
       "        vertical-align: top;\n",
       "    }\n",
       "\n",
       "    .dataframe thead th {\n",
       "        text-align: right;\n",
       "    }\n",
       "</style>\n",
       "<table border=\"1\" class=\"dataframe\">\n",
       "  <thead>\n",
       "    <tr style=\"text-align: right;\">\n",
       "      <th></th>\n",
       "      <th>SPY</th>\n",
       "    </tr>\n",
       "  </thead>\n",
       "  <tbody>\n",
       "    <tr>\n",
       "      <th>2010-01-04</th>\n",
       "      <td>89.225403</td>\n",
       "    </tr>\n",
       "    <tr>\n",
       "      <th>2010-01-05</th>\n",
       "      <td>89.461594</td>\n",
       "    </tr>\n",
       "    <tr>\n",
       "      <th>2010-01-06</th>\n",
       "      <td>89.524605</td>\n",
       "    </tr>\n",
       "    <tr>\n",
       "      <th>2010-01-07</th>\n",
       "      <td>89.902489</td>\n",
       "    </tr>\n",
       "    <tr>\n",
       "      <th>2010-01-08</th>\n",
       "      <td>90.201660</td>\n",
       "    </tr>\n",
       "    <tr>\n",
       "      <th>...</th>\n",
       "      <td>...</td>\n",
       "    </tr>\n",
       "    <tr>\n",
       "      <th>2010-12-27</th>\n",
       "      <td>100.867004</td>\n",
       "    </tr>\n",
       "    <tr>\n",
       "      <th>2010-12-28</th>\n",
       "      <td>101.011490</td>\n",
       "    </tr>\n",
       "    <tr>\n",
       "      <th>2010-12-29</th>\n",
       "      <td>101.083740</td>\n",
       "    </tr>\n",
       "    <tr>\n",
       "      <th>2010-12-30</th>\n",
       "      <td>100.923172</td>\n",
       "    </tr>\n",
       "    <tr>\n",
       "      <th>2010-12-31</th>\n",
       "      <td>100.947266</td>\n",
       "    </tr>\n",
       "  </tbody>\n",
       "</table>\n",
       "<p>252 rows × 1 columns</p>\n",
       "</div>"
      ],
      "text/plain": [
       "                   SPY\n",
       "2010-01-04   89.225403\n",
       "2010-01-05   89.461594\n",
       "2010-01-06   89.524605\n",
       "2010-01-07   89.902489\n",
       "2010-01-08   90.201660\n",
       "...                ...\n",
       "2010-12-27  100.867004\n",
       "2010-12-28  101.011490\n",
       "2010-12-29  101.083740\n",
       "2010-12-30  100.923172\n",
       "2010-12-31  100.947266\n",
       "\n",
       "[252 rows x 1 columns]"
      ]
     },
     "execution_count": 55,
     "metadata": {},
     "output_type": "execute_result"
    }
   ],
   "source": [
    "df_spy = pd.DataFrame(index=df1.index)\n",
    "df_spy_data = df1['SPY']\n",
    "df_spy['SPY'] = df_spy_data\n",
    "df_spy"
   ]
  },
  {
   "cell_type": "code",
   "execution_count": null,
   "id": "19fbe2d8",
   "metadata": {},
   "outputs": [],
   "source": []
  },
  {
   "cell_type": "code",
   "execution_count": null,
   "id": "ab59cb0b",
   "metadata": {},
   "outputs": [],
   "source": [
    "plt.plot(df_spy['SPY'])\n",
    "plt.title(\"SPY Rolling Mean\")\n",
    "plt.xlabel('Time')\n",
    "plt.ylabel('Price')"
   ]
  },
  {
   "cell_type": "code",
   "execution_count": null,
   "id": "168fed22",
   "metadata": {},
   "outputs": [],
   "source": [
    "rm_df_spy = df_spy['SPY'].rolling(20).mean()\n",
    "rm_df_spy"
   ]
  },
  {
   "cell_type": "code",
   "execution_count": null,
   "id": "265991b5",
   "metadata": {},
   "outputs": [],
   "source": [
    "df_spy['SPY_rm'] = rm_df_spy\n",
    "df_spy.dropna()"
   ]
  },
  {
   "cell_type": "code",
   "execution_count": null,
   "id": "a094ab37",
   "metadata": {},
   "outputs": [],
   "source": [
    "plt.plot(df_spy, label = df_spy.columns)\n",
    "plt.legend(loc='upper right')"
   ]
  },
  {
   "cell_type": "code",
   "execution_count": null,
   "id": "096a737c",
   "metadata": {},
   "outputs": [],
   "source": []
  },
  {
   "cell_type": "markdown",
   "id": "961c5025",
   "metadata": {},
   "source": [
    "## Global Statistics"
   ]
  },
  {
   "cell_type": "code",
   "execution_count": 82,
   "id": "6f3d47d3",
   "metadata": {},
   "outputs": [],
   "source": [
    "#df1"
   ]
  },
  {
   "cell_type": "code",
   "execution_count": 79,
   "id": "61feccc9",
   "metadata": {},
   "outputs": [
    {
     "data": {
      "text/plain": [
       "SPY       90.615088\n",
       "AAPL       7.923635\n",
       "EUR=X      0.755586\n",
       "GLD      120.069762\n",
       "GOOG      13.340574\n",
       "IBM       82.773339\n",
       "dtype: float64"
      ]
     },
     "execution_count": 79,
     "metadata": {},
     "output_type": "execute_result"
    }
   ],
   "source": [
    "df1.mean()"
   ]
  },
  {
   "cell_type": "code",
   "execution_count": 80,
   "id": "193b1188",
   "metadata": {},
   "outputs": [
    {
     "data": {
      "text/plain": [
       "SPY       89.926113\n",
       "AAPL       7.838939\n",
       "EUR=X      0.751645\n",
       "GLD      118.754998\n",
       "GOOG      13.308118\n",
       "IBM       80.847927\n",
       "dtype: float64"
      ]
     },
     "execution_count": 80,
     "metadata": {},
     "output_type": "execute_result"
    }
   ],
   "source": [
    "df1.median()"
   ]
  },
  {
   "cell_type": "code",
   "execution_count": 81,
   "id": "bdf765ad",
   "metadata": {},
   "outputs": [
    {
     "data": {
      "text/plain": [
       "SPY      4.702047\n",
       "AAPL     1.145246\n",
       "EUR=X    0.034397\n",
       "GLD      9.537110\n",
       "GOOG     1.256807\n",
       "IBM      4.870540\n",
       "dtype: float64"
      ]
     },
     "execution_count": 81,
     "metadata": {},
     "output_type": "execute_result"
    }
   ],
   "source": [
    "df1.std()"
   ]
  },
  {
   "cell_type": "markdown",
   "id": "471ae5ab",
   "metadata": {},
   "source": [
    "## Arithmetic Operations"
   ]
  },
  {
   "cell_type": "code",
   "execution_count": 83,
   "id": "d3ae4d0e",
   "metadata": {},
   "outputs": [
    {
     "name": "stdout",
     "output_type": "stream",
     "text": [
      "[[11  8  2]\n",
      " [ 2 14  9]]\n",
      "[[17 11]\n",
      " [11 15]\n",
      " [19 12]]\n",
      "[[313 265]\n",
      " [359 340]]\n"
     ]
    }
   ],
   "source": [
    "np.random.seed(500)\n",
    "my_arr_6 = np.random.randint(1,15, size = (2,3))\n",
    "print(my_arr_6)\n",
    "my_arr_7 = np.random.randint(10,20, size = (3,2))\n",
    "print(my_arr_7)\n",
    "print(np.dot(my_arr_6, my_arr_7, out=None))"
   ]
  },
  {
   "cell_type": "code",
   "execution_count": 84,
   "id": "1b92643e",
   "metadata": {},
   "outputs": [
    {
     "name": "stdout",
     "output_type": "stream",
     "text": [
      "[[5 1 1]\n",
      " [1 7 3]\n",
      " [6 6 3]\n",
      " [8 5 6]\n",
      " [4 9 5]]\n",
      "[[1 3 3]\n",
      " [4 3 1]\n",
      " [4 1 1]\n",
      " [4 3 4]\n",
      " [3 3 1]]\n",
      "[[ 5  3  3]\n",
      " [ 4 21  3]\n",
      " [24  6  3]\n",
      " [32 15 24]\n",
      " [12 27  5]]\n"
     ]
    }
   ],
   "source": [
    "np.random.seed(850)\n",
    "my_arr_4 = np.random.randint(1,10, size = (5,3))\n",
    "print(my_arr_4)\n",
    "my_arr_5 = np.random.randint(1,5, size = (5,3))\n",
    "print(my_arr_5)\n",
    "print(my_arr_4 * my_arr_5)"
   ]
  },
  {
   "cell_type": "code",
   "execution_count": 85,
   "id": "1f2182a6",
   "metadata": {},
   "outputs": [
    {
     "name": "stdout",
     "output_type": "stream",
     "text": [
      "[[18 34 13]\n",
      " [49 33 25]\n",
      " [20 40 44]\n",
      " [12 44 24]]\n",
      "[[ 9.  17.   6.5]\n",
      " [24.5 16.5 12.5]\n",
      " [10.  20.  22. ]\n",
      " [ 6.  22.  12. ]]\n"
     ]
    }
   ],
   "source": [
    "np.random.seed(100)\n",
    "my_arr_3 = np.random.randint(10,50, size = (4,3))\n",
    "print(my_arr_3)\n",
    "print(my_arr_3 / 2)"
   ]
  },
  {
   "cell_type": "markdown",
   "id": "b3cce8f1",
   "metadata": {},
   "source": [
    "## Boolean or Mask index array"
   ]
  },
  {
   "cell_type": "code",
   "execution_count": 86,
   "id": "29864646",
   "metadata": {},
   "outputs": [
    {
     "name": "stdout",
     "output_type": "stream",
     "text": [
      "[[ 8 18]\n",
      " [ 5 10]\n",
      " [15  7]\n",
      " [15 24]\n",
      " [21 17]\n",
      " [13 10]\n",
      " [12 14]\n",
      " [ 6 13]]\n",
      "Mean:  13.0\n"
     ]
    }
   ],
   "source": [
    "np.random.seed(543)\n",
    "my_arr_2 = np.random.randint(1,25,size=(8,2))\n",
    "print(my_arr_2)\n",
    "my_arr_2_mean = my_arr_2.mean()\n",
    "print(\"Mean: \", my_arr_2_mean)"
   ]
  },
  {
   "cell_type": "code",
   "execution_count": 87,
   "id": "ef1efaec",
   "metadata": {},
   "outputs": [
    {
     "data": {
      "text/plain": [
       "array([[13, 18],\n",
       "       [13, 13],\n",
       "       [15, 13],\n",
       "       [15, 24],\n",
       "       [21, 17],\n",
       "       [13, 13],\n",
       "       [13, 14],\n",
       "       [13, 13]])"
      ]
     },
     "execution_count": 87,
     "metadata": {},
     "output_type": "execute_result"
    }
   ],
   "source": [
    "my_arr_2[my_arr_2 < my_arr_2_mean] = my_arr_2_mean\n",
    "my_arr_2"
   ]
  },
  {
   "cell_type": "markdown",
   "id": "11b976a5",
   "metadata": {},
   "source": [
    "## Working with ndarrays"
   ]
  },
  {
   "cell_type": "code",
   "execution_count": null,
   "id": "a632764a",
   "metadata": {},
   "outputs": [],
   "source": [
    "my_array_1 = np.random.rand(5)\n",
    "print(my_array_1)\n",
    "indices = np.array([1,1,2,3])\n",
    "print(my_array_1[indices])"
   ]
  },
  {
   "cell_type": "code",
   "execution_count": null,
   "id": "c96b76f8",
   "metadata": {},
   "outputs": [],
   "source": [
    "an_array = np.random.randint(0,25, size = (5,4))\n",
    "an_array"
   ]
  },
  {
   "cell_type": "code",
   "execution_count": null,
   "id": "b35462c0",
   "metadata": {},
   "outputs": [],
   "source": [
    "an_array[0,0] = 1\n",
    "an_array"
   ]
  },
  {
   "cell_type": "markdown",
   "id": "da7bdaef",
   "metadata": {},
   "source": [
    "## How fast is NumPy?"
   ]
  },
  {
   "cell_type": "code",
   "execution_count": null,
   "id": "f7006d98",
   "metadata": {},
   "outputs": [],
   "source": [
    "# Creating BIG array\n",
    "my_big_array = np.random.randint(0,25, size =(1000,10000))"
   ]
  },
  {
   "cell_type": "code",
   "execution_count": null,
   "id": "8f2b74d0",
   "metadata": {},
   "outputs": [],
   "source": [
    "# Compute mean of array elements manually by iteration\n",
    "def manual_mean(big_arr):\n",
    "    sum = 0\n",
    "    for i in range(big_arr.shape[0]):\n",
    "        for j in range(big_arr.shape[1]):\n",
    "            sum += big_arr[i,j]\n",
    "    print(\"Manual Mean: \", (sum / big_arr.size))"
   ]
  },
  {
   "cell_type": "code",
   "execution_count": null,
   "id": "d8a24614",
   "metadata": {},
   "outputs": [],
   "source": [
    "manual_mean(my_big_array)"
   ]
  },
  {
   "cell_type": "code",
   "execution_count": null,
   "id": "a4f8bd7b",
   "metadata": {},
   "outputs": [],
   "source": [
    "# Compute mean of array elements by use of NumPy function\n",
    "def numpy_mean(big_arr):\n",
    "    print(\"NumPy Mean: \",big_arr.mean())"
   ]
  },
  {
   "cell_type": "code",
   "execution_count": null,
   "id": "ee30497c",
   "metadata": {},
   "outputs": [],
   "source": [
    "numpy_mean(my_big_array)"
   ]
  },
  {
   "cell_type": "code",
   "execution_count": null,
   "id": "9ef97856",
   "metadata": {},
   "outputs": [],
   "source": [
    "# Compare times taken to compute means\n",
    "t1 = time.time()\n",
    "manual_mean(my_big_array)\n",
    "t2 = time.time()\n",
    "d1 = t2 - t1\n",
    "print(\"Manual computation took: {}\".format(d1))\n",
    "\n",
    "t3 = time.time()\n",
    "numpy_mean(my_big_array)\n",
    "t4 = time.time()\n",
    "d2 = t4-t3\n",
    "print(\"NumPy mean took: {}\".format(d2))\n",
    "\n",
    "print(\"\\nDifference is of value: {}\".format(d1/d2))"
   ]
  },
  {
   "cell_type": "markdown",
   "id": "69456f7b",
   "metadata": {},
   "source": [
    "## Time function"
   ]
  },
  {
   "cell_type": "code",
   "execution_count": null,
   "id": "e66bbcfc",
   "metadata": {},
   "outputs": [],
   "source": [
    "## Timing functions\n",
    "t1 = time.time()\n",
    "print(\"Fuck you :D \")\n",
    "t2 = time.time()\n",
    "print(\"Prnt operation took: \", t2-t1)"
   ]
  },
  {
   "cell_type": "markdown",
   "id": "1b3fac3f",
   "metadata": {},
   "source": [
    "## operations on ndarrays"
   ]
  },
  {
   "cell_type": "code",
   "execution_count": null,
   "id": "0023ca57",
   "metadata": {},
   "outputs": [],
   "source": [
    "np.random.seed(543)\n",
    "my_a = np.random.randint(0,25, size=(5,3))\n",
    "print(\"My Array :\\n\",my_a)"
   ]
  },
  {
   "cell_type": "code",
   "execution_count": null,
   "id": "c01dd691",
   "metadata": {},
   "outputs": [],
   "source": [
    "print(\"Sum of all elements:\\n\",my_a.sum())"
   ]
  },
  {
   "cell_type": "code",
   "execution_count": null,
   "id": "cf20569a",
   "metadata": {},
   "outputs": [],
   "source": [
    "print(my_a.sum(axis=0))"
   ]
  },
  {
   "cell_type": "code",
   "execution_count": null,
   "id": "e0ee849b",
   "metadata": {},
   "outputs": [],
   "source": [
    "print(my_a.sum(axis=1))"
   ]
  },
  {
   "cell_type": "code",
   "execution_count": null,
   "id": "fc7bec0f",
   "metadata": {},
   "outputs": [],
   "source": [
    "print(my_a.min(axis=1))"
   ]
  },
  {
   "cell_type": "code",
   "execution_count": null,
   "id": "cd163d96",
   "metadata": {},
   "outputs": [],
   "source": [
    "print(my_a.mean())"
   ]
  },
  {
   "cell_type": "markdown",
   "id": "8b1498e2",
   "metadata": {},
   "source": [
    "## Create arrays"
   ]
  },
  {
   "cell_type": "code",
   "execution_count": 29,
   "id": "374d97f4",
   "metadata": {},
   "outputs": [
    {
     "data": {
      "text/plain": [
       "array([2.5e-323, 3.0e-323, 3.5e-323, 4.0e-323, 4.4e-323])"
      ]
     },
     "execution_count": 29,
     "metadata": {},
     "output_type": "execute_result"
    }
   ],
   "source": [
    "np.empty(5)"
   ]
  },
  {
   "cell_type": "code",
   "execution_count": 30,
   "id": "9dbc8f13",
   "metadata": {},
   "outputs": [
    {
     "data": {
      "text/plain": [
       "array([[5.e-323, 5.e-323, 5.e-323],\n",
       "       [5.e-323, 5.e-323, 5.e-323],\n",
       "       [5.e-323, 5.e-323, 5.e-323],\n",
       "       [5.e-323, 5.e-323, 5.e-323]])"
      ]
     },
     "execution_count": 30,
     "metadata": {},
     "output_type": "execute_result"
    }
   ],
   "source": [
    "np.empty((4,3))"
   ]
  },
  {
   "cell_type": "code",
   "execution_count": 31,
   "id": "cbefbe54",
   "metadata": {},
   "outputs": [
    {
     "data": {
      "text/plain": [
       "array([[[2.04823807e-316, 0.00000000e+000, 1.57606941e-321,\n",
       "         2.52961611e-321, 1.57606941e-321],\n",
       "        [2.27270197e-321, 6.57107309e-322, 2.27270197e-321,\n",
       "         6.57107309e-322, 1.50690022e-321],\n",
       "        [7.21335843e-322, 1.52666285e-321, 8.54733567e-322,\n",
       "         1.55136613e-321, 9.18962101e-322]],\n",
       "\n",
       "       [[1.55136613e-321, 1.29939265e-321, 1.55136613e-321,\n",
       "         1.73911107e-321, 1.13141033e-321],\n",
       "        [1.73911107e-321, 7.75683064e-322, 1.73911107e-321,\n",
       "         4.10074486e-322, 1.27963002e-321],\n",
       "        [0.00000000e+000, 8.59674224e-322, 0.00000000e+000,\n",
       "         7.16395186e-322, 0.00000000e+000]],\n",
       "\n",
       "       [[4.15015143e-322, 4.94065646e-323, 2.56914136e-322,\n",
       "         9.88131292e-323, 2.56914136e-322],\n",
       "        [4.05133830e-322, 3.95252517e-322, 3.31023983e-322,\n",
       "         6.91691904e-322, 2.56914136e-322],\n",
       "        [8.59674224e-322, 2.56914136e-322, 1.12646967e-321,\n",
       "         2.56914136e-322, 1.43773103e-321]],\n",
       "\n",
       "       [[5.33590898e-322, 1.43773103e-321, 7.75683064e-322,\n",
       "         1.43773103e-321, 1.01777523e-321],\n",
       "        [1.12646967e-321, 1.29445199e-321, 8.59674224e-322,\n",
       "         1.29445199e-321, 7.36157812e-322],\n",
       "        [1.29445199e-321, 4.84184333e-322, 1.24010477e-321,\n",
       "         3.55727265e-322, 1.18081689e-321]]])"
      ]
     },
     "execution_count": 31,
     "metadata": {},
     "output_type": "execute_result"
    }
   ],
   "source": [
    "np.empty((4,3,5))"
   ]
  },
  {
   "cell_type": "code",
   "execution_count": 32,
   "id": "51dcd6a4",
   "metadata": {},
   "outputs": [
    {
     "data": {
      "text/plain": [
       "array([[1., 1., 1., 1., 1.],\n",
       "       [1., 1., 1., 1., 1.],\n",
       "       [1., 1., 1., 1., 1.],\n",
       "       [1., 1., 1., 1., 1.]])"
      ]
     },
     "execution_count": 32,
     "metadata": {},
     "output_type": "execute_result"
    }
   ],
   "source": [
    "np.ones((4,5))"
   ]
  },
  {
   "cell_type": "code",
   "execution_count": 33,
   "id": "f8def54e",
   "metadata": {},
   "outputs": [
    {
     "data": {
      "text/plain": [
       "array([[ 0.50732962, -0.804625  ],\n",
       "       [-0.35460766, -0.42422889],\n",
       "       [-0.24733233,  0.11888169]])"
      ]
     },
     "execution_count": 33,
     "metadata": {},
     "output_type": "execute_result"
    }
   ],
   "source": [
    "np.random.normal(size = (3,2))"
   ]
  },
  {
   "cell_type": "code",
   "execution_count": 34,
   "id": "a19d99bd",
   "metadata": {},
   "outputs": [
    {
     "data": {
      "text/plain": [
       "array([[42.09670694, 51.31067051, 47.25983857],\n",
       "       [58.05185409, 52.25981963, 46.65490413],\n",
       "       [76.52273576, 55.87360823, 46.54089914],\n",
       "       [31.75171052, 55.97390446, 42.79919451],\n",
       "       [47.45576918, 62.33182417, 64.11809025]])"
      ]
     },
     "execution_count": 34,
     "metadata": {},
     "output_type": "execute_result"
    }
   ],
   "source": [
    "np.random.normal(50,10,size=(5,3))"
   ]
  },
  {
   "cell_type": "code",
   "execution_count": 35,
   "id": "7ef258ba",
   "metadata": {},
   "outputs": [],
   "source": [
    "a = np.random.randint(0,10,size=(5,3))"
   ]
  },
  {
   "cell_type": "code",
   "execution_count": 36,
   "id": "f6aa43bd",
   "metadata": {},
   "outputs": [
    {
     "data": {
      "text/plain": [
       "(5, 3)"
      ]
     },
     "execution_count": 36,
     "metadata": {},
     "output_type": "execute_result"
    }
   ],
   "source": [
    "a.shape"
   ]
  },
  {
   "cell_type": "markdown",
   "id": "57c669f4",
   "metadata": {},
   "source": [
    "## NumPy array access and slicing"
   ]
  },
  {
   "cell_type": "code",
   "execution_count": 37,
   "id": "90a8b441",
   "metadata": {},
   "outputs": [
    {
     "data": {
      "text/plain": [
       "array([[0.99909149, 0.88055759, 0.12452031, 0.45460787, 0.44815701],\n",
       "       [0.4225271 , 0.02426384, 0.91273576, 0.03005029, 0.26162002],\n",
       "       [0.8314506 , 0.26661646, 0.19182608, 0.30922944, 0.34251625],\n",
       "       [0.05445821, 0.98274325, 0.16083992, 0.19897187, 0.72117339],\n",
       "       [0.5963237 , 0.10597566, 0.21288661, 0.06418671, 0.62847182],\n",
       "       [0.38239487, 0.92228399, 0.04257844, 0.77019893, 0.36488377],\n",
       "       [0.98294813, 0.20743486, 0.22646046, 0.42695445, 0.13286654],\n",
       "       [0.13387664, 0.16256203, 0.88781328, 0.89586253, 0.45588011]])"
      ]
     },
     "execution_count": 37,
     "metadata": {},
     "output_type": "execute_result"
    }
   ],
   "source": [
    "nd1 = np.random.rand(8,5)\n",
    "nd1"
   ]
  },
  {
   "cell_type": "code",
   "execution_count": 38,
   "id": "1029277c",
   "metadata": {},
   "outputs": [
    {
     "data": {
      "text/plain": [
       "array([0.16256203, 0.88781328, 0.89586253])"
      ]
     },
     "execution_count": 38,
     "metadata": {},
     "output_type": "execute_result"
    }
   ],
   "source": [
    "nd1[-1,1:4]"
   ]
  },
  {
   "cell_type": "markdown",
   "id": "779eb325",
   "metadata": {},
   "source": [
    "## Normalising and plotting multiple columns"
   ]
  },
  {
   "cell_type": "code",
   "execution_count": 49,
   "id": "d80e19e2",
   "metadata": {},
   "outputs": [],
   "source": [
    "df_normalised = df1 / df1.loc['2010-01-04',:]"
   ]
  },
  {
   "cell_type": "code",
   "execution_count": 50,
   "id": "94a57284",
   "metadata": {},
   "outputs": [
    {
     "data": {
      "text/html": [
       "<div>\n",
       "<style scoped>\n",
       "    .dataframe tbody tr th:only-of-type {\n",
       "        vertical-align: middle;\n",
       "    }\n",
       "\n",
       "    .dataframe tbody tr th {\n",
       "        vertical-align: top;\n",
       "    }\n",
       "\n",
       "    .dataframe thead th {\n",
       "        text-align: right;\n",
       "    }\n",
       "</style>\n",
       "<table border=\"1\" class=\"dataframe\">\n",
       "  <thead>\n",
       "    <tr style=\"text-align: right;\">\n",
       "      <th></th>\n",
       "      <th>SPY</th>\n",
       "      <th>AAPL</th>\n",
       "      <th>EUR=X</th>\n",
       "      <th>GLD</th>\n",
       "      <th>GOOG</th>\n",
       "      <th>IBM</th>\n",
       "    </tr>\n",
       "  </thead>\n",
       "  <tbody>\n",
       "    <tr>\n",
       "      <th>2010-01-04</th>\n",
       "      <td>1.000000</td>\n",
       "      <td>1.000000</td>\n",
       "      <td>1.000000</td>\n",
       "      <td>1.000000</td>\n",
       "      <td>1.000000</td>\n",
       "      <td>1.000000</td>\n",
       "    </tr>\n",
       "    <tr>\n",
       "      <th>2010-01-05</th>\n",
       "      <td>1.002647</td>\n",
       "      <td>1.001729</td>\n",
       "      <td>1.004039</td>\n",
       "      <td>0.999089</td>\n",
       "      <td>0.995596</td>\n",
       "      <td>0.987920</td>\n",
       "    </tr>\n",
       "    <tr>\n",
       "      <th>2010-01-06</th>\n",
       "      <td>1.003353</td>\n",
       "      <td>0.985795</td>\n",
       "      <td>1.001385</td>\n",
       "      <td>1.015574</td>\n",
       "      <td>0.970499</td>\n",
       "      <td>0.981502</td>\n",
       "    </tr>\n",
       "    <tr>\n",
       "      <th>2010-01-07</th>\n",
       "      <td>1.007588</td>\n",
       "      <td>0.983973</td>\n",
       "      <td>1.007400</td>\n",
       "      <td>1.009290</td>\n",
       "      <td>0.947906</td>\n",
       "      <td>0.978104</td>\n",
       "    </tr>\n",
       "    <tr>\n",
       "      <th>2010-01-08</th>\n",
       "      <td>1.010941</td>\n",
       "      <td>0.990514</td>\n",
       "      <td>1.000894</td>\n",
       "      <td>1.014299</td>\n",
       "      <td>0.960543</td>\n",
       "      <td>0.987920</td>\n",
       "    </tr>\n",
       "    <tr>\n",
       "      <th>...</th>\n",
       "      <td>...</td>\n",
       "      <td>...</td>\n",
       "      <td>...</td>\n",
       "      <td>...</td>\n",
       "      <td>...</td>\n",
       "      <td>...</td>\n",
       "    </tr>\n",
       "    <tr>\n",
       "      <th>2010-12-27</th>\n",
       "      <td>1.130474</td>\n",
       "      <td>1.517125</td>\n",
       "      <td>1.102771</td>\n",
       "      <td>1.229690</td>\n",
       "      <td>0.961117</td>\n",
       "      <td>1.118314</td>\n",
       "    </tr>\n",
       "    <tr>\n",
       "      <th>2010-12-28</th>\n",
       "      <td>1.132093</td>\n",
       "      <td>1.520817</td>\n",
       "      <td>1.093583</td>\n",
       "      <td>1.249727</td>\n",
       "      <td>0.955596</td>\n",
       "      <td>1.121161</td>\n",
       "    </tr>\n",
       "    <tr>\n",
       "      <th>2010-12-29</th>\n",
       "      <td>1.132903</td>\n",
       "      <td>1.519976</td>\n",
       "      <td>1.102223</td>\n",
       "      <td>1.254189</td>\n",
       "      <td>0.958915</td>\n",
       "      <td>1.127393</td>\n",
       "    </tr>\n",
       "    <tr>\n",
       "      <th>2010-12-30</th>\n",
       "      <td>1.131104</td>\n",
       "      <td>1.512360</td>\n",
       "      <td>1.090698</td>\n",
       "      <td>1.247996</td>\n",
       "      <td>0.955501</td>\n",
       "      <td>1.128547</td>\n",
       "    </tr>\n",
       "    <tr>\n",
       "      <th>2010-12-31</th>\n",
       "      <td>1.131374</td>\n",
       "      <td>1.507219</td>\n",
       "      <td>1.084409</td>\n",
       "      <td>1.263388</td>\n",
       "      <td>0.947698</td>\n",
       "      <td>1.129240</td>\n",
       "    </tr>\n",
       "  </tbody>\n",
       "</table>\n",
       "<p>252 rows × 6 columns</p>\n",
       "</div>"
      ],
      "text/plain": [
       "                 SPY      AAPL     EUR=X       GLD      GOOG       IBM\n",
       "2010-01-04  1.000000  1.000000  1.000000  1.000000  1.000000  1.000000\n",
       "2010-01-05  1.002647  1.001729  1.004039  0.999089  0.995596  0.987920\n",
       "2010-01-06  1.003353  0.985795  1.001385  1.015574  0.970499  0.981502\n",
       "2010-01-07  1.007588  0.983973  1.007400  1.009290  0.947906  0.978104\n",
       "2010-01-08  1.010941  0.990514  1.000894  1.014299  0.960543  0.987920\n",
       "...              ...       ...       ...       ...       ...       ...\n",
       "2010-12-27  1.130474  1.517125  1.102771  1.229690  0.961117  1.118314\n",
       "2010-12-28  1.132093  1.520817  1.093583  1.249727  0.955596  1.121161\n",
       "2010-12-29  1.132903  1.519976  1.102223  1.254189  0.958915  1.127393\n",
       "2010-12-30  1.131104  1.512360  1.090698  1.247996  0.955501  1.128547\n",
       "2010-12-31  1.131374  1.507219  1.084409  1.263388  0.947698  1.129240\n",
       "\n",
       "[252 rows x 6 columns]"
      ]
     },
     "execution_count": 50,
     "metadata": {},
     "output_type": "execute_result"
    }
   ],
   "source": [
    "df_normalised"
   ]
  },
  {
   "cell_type": "code",
   "execution_count": 51,
   "id": "d56613db",
   "metadata": {},
   "outputs": [
    {
     "data": {
      "text/plain": [
       "<matplotlib.legend.Legend at 0x7f8ab3adc3a0>"
      ]
     },
     "execution_count": 51,
     "metadata": {},
     "output_type": "execute_result"
    },
    {
     "data": {
      "image/png": "[encoded data removed]",
      "text/plain": [
       "<Figure size 432x288 with 1 Axes>"
      ]
     },
     "metadata": {
      "needs_background": "light"
     },
     "output_type": "display_data"
    }
   ],
   "source": [
    "symbols = ['SPY','IBM','GOOG', 'GLD']\n",
    "\n",
    "for symbol in symbols:\n",
    "    plt.plot(df_normalised[symbol], label=symbol)\n",
    "\n",
    "plt.title(\"Stock Prices\")\n",
    "plt.grid()\n",
    "plt.xlabel(\"Date\")\n",
    "plt.ylabel(\"Price\")\n",
    "plt.legend()\n"
   ]
  },
  {
   "cell_type": "markdown",
   "id": "f327d501",
   "metadata": {},
   "source": [
    "## Plotting multiple column data"
   ]
  },
  {
   "cell_type": "code",
   "execution_count": 47,
   "id": "7b9b903e",
   "metadata": {},
   "outputs": [
    {
     "data": {
      "text/plain": [
       "<matplotlib.legend.Legend at 0x7f8ab3c0fc70>"
      ]
     },
     "execution_count": 47,
     "metadata": {},
     "output_type": "execute_result"
    },
    {
     "data": {
      "image/png": "[encoded data removed]",
      "text/plain": [
       "<Figure size 432x288 with 1 Axes>"
      ]
     },
     "metadata": {
      "needs_background": "light"
     },
     "output_type": "display_data"
    }
   ],
   "source": [
    "# Plot stock prices\n",
    "\n",
    "symbols = ['SPY','IBM','GOOG', 'GLD']\n",
    "\n",
    "for symbol in symbols:\n",
    "    plt.plot(df1[symbol], label=symbol)\n",
    "\n",
    "plt.title(\"Stock Prices\")\n",
    "plt.xlabel(\"Date\")\n",
    "plt.ylabel(\"Price\")\n",
    "plt.legend()\n"
   ]
  },
  {
   "cell_type": "markdown",
   "id": "6deae770",
   "metadata": {},
   "source": [
    "## join multiple dataframes, ensuring dates match each other"
   ]
  },
  {
   "cell_type": "code",
   "execution_count": 45,
   "id": "b64cdd06",
   "metadata": {},
   "outputs": [
    {
     "name": "stdout",
     "output_type": "stream",
     "text": [
      "                   SPY      AAPL    EUR=X         GLD       GOOG        IBM\n",
      "2010-01-04   89.225403  6.526021  0.69329  109.800003  15.610239  82.284264\n",
      "2010-01-05   89.461594  6.537304  0.69609  109.699997  15.541497  81.290245\n",
      "2010-01-06   89.524605  6.433318  0.69425  111.510002  15.149715  80.762169\n",
      "2010-01-07   89.902489  6.421426  0.69842  110.820000  14.797037  80.482605\n",
      "2010-01-08   90.201660  6.464118  0.69391  111.370003  14.994298  81.290245\n",
      "...                ...       ...      ...         ...        ...        ...\n",
      "2010-12-27  100.867004  9.900789  0.76454  135.020004  15.003264  92.019676\n",
      "2010-12-28  101.011490  9.924884  0.75817  137.220001  14.917087  92.253914\n",
      "2010-12-29  101.083740  9.919394  0.76416  137.710007  14.968893  92.766739\n",
      "2010-12-30  100.923172  9.869690  0.75617  137.029999  14.915593  92.861679\n",
      "2010-12-31  100.947266  9.836143  0.75181  138.720001  14.793799  92.918701\n",
      "\n",
      "[252 rows x 6 columns]\n"
     ]
    }
   ],
   "source": [
    "# Define date range\n",
    "start_date = '2010-01-01'\n",
    "end_date = '2010-12-31'\n",
    "dates = pd.date_range(start_date,end_date)\n",
    "    \n",
    "# Create an empty dataframe\n",
    "df1 = pd.DataFrame(index = dates)\n",
    "    \n",
    "# Read SPY data into temporary dataframe   \n",
    "dfSPY = pd.read_csv(\"csv_data/SPY.csv\", index_col = \"Date\", \n",
    "                    parse_dates=True, usecols = ['Date','Adj Close'],\n",
    "                    na_values=['nan'])                  \n",
    "    \n",
    "# Rename 'Adj Close' column to 'SPY' to prevent clash   \n",
    "dfSPY = dfSPY.rename(columns={'Adj Close':'SPY'})\n",
    "    \n",
    "# Join the two DataFrames using DataFrame.join()\n",
    "df1 = df1.join(dfSPY, how = 'inner')\n",
    "    \n",
    "# Drop the NaN values\n",
    "df1 = df1.dropna()\n",
    "\n",
    "# Read more stocks\n",
    "symbols = ['AAPL', 'EUR=X', 'GLD', 'GOOG', 'IBM']\n",
    "for symbol in symbols:\n",
    "    df_temp = pd.read_csv(\"csv_data/{}.csv\".format(symbol), index_col = \"Date\", \n",
    "                    parse_dates=True, usecols = ['Date','Adj Close'],\n",
    "                    na_values=['nan'])\n",
    "    df_temp = df_temp.rename(columns={'Adj Close' : symbol})\n",
    "    df1 = df1.join(df_temp) # use default how='left'\n",
    "    \n",
    "print(df1)"
   ]
  },
  {
   "cell_type": "code",
   "execution_count": 46,
   "id": "83076dd5",
   "metadata": {},
   "outputs": [
    {
     "data": {
      "text/html": [
       "<div>\n",
       "<style scoped>\n",
       "    .dataframe tbody tr th:only-of-type {\n",
       "        vertical-align: middle;\n",
       "    }\n",
       "\n",
       "    .dataframe tbody tr th {\n",
       "        vertical-align: top;\n",
       "    }\n",
       "\n",
       "    .dataframe thead th {\n",
       "        text-align: right;\n",
       "    }\n",
       "</style>\n",
       "<table border=\"1\" class=\"dataframe\">\n",
       "  <thead>\n",
       "    <tr style=\"text-align: right;\">\n",
       "      <th></th>\n",
       "      <th>SPY</th>\n",
       "      <th>AAPL</th>\n",
       "      <th>EUR=X</th>\n",
       "      <th>GLD</th>\n",
       "      <th>GOOG</th>\n",
       "      <th>IBM</th>\n",
       "    </tr>\n",
       "  </thead>\n",
       "  <tbody>\n",
       "    <tr>\n",
       "      <th>2010-01-04</th>\n",
       "      <td>89.225403</td>\n",
       "      <td>6.526021</td>\n",
       "      <td>0.69329</td>\n",
       "      <td>109.800003</td>\n",
       "      <td>15.610239</td>\n",
       "      <td>82.284264</td>\n",
       "    </tr>\n",
       "    <tr>\n",
       "      <th>2010-01-05</th>\n",
       "      <td>89.461594</td>\n",
       "      <td>6.537304</td>\n",
       "      <td>0.69609</td>\n",
       "      <td>109.699997</td>\n",
       "      <td>15.541497</td>\n",
       "      <td>81.290245</td>\n",
       "    </tr>\n",
       "    <tr>\n",
       "      <th>2010-01-06</th>\n",
       "      <td>89.524605</td>\n",
       "      <td>6.433318</td>\n",
       "      <td>0.69425</td>\n",
       "      <td>111.510002</td>\n",
       "      <td>15.149715</td>\n",
       "      <td>80.762169</td>\n",
       "    </tr>\n",
       "    <tr>\n",
       "      <th>2010-01-07</th>\n",
       "      <td>89.902489</td>\n",
       "      <td>6.421426</td>\n",
       "      <td>0.69842</td>\n",
       "      <td>110.820000</td>\n",
       "      <td>14.797037</td>\n",
       "      <td>80.482605</td>\n",
       "    </tr>\n",
       "    <tr>\n",
       "      <th>2010-01-08</th>\n",
       "      <td>90.201660</td>\n",
       "      <td>6.464118</td>\n",
       "      <td>0.69391</td>\n",
       "      <td>111.370003</td>\n",
       "      <td>14.994298</td>\n",
       "      <td>81.290245</td>\n",
       "    </tr>\n",
       "    <tr>\n",
       "      <th>2010-01-11</th>\n",
       "      <td>90.327644</td>\n",
       "      <td>6.407094</td>\n",
       "      <td>0.68912</td>\n",
       "      <td>112.849998</td>\n",
       "      <td>14.971633</td>\n",
       "      <td>80.439110</td>\n",
       "    </tr>\n",
       "    <tr>\n",
       "      <th>2010-01-12</th>\n",
       "      <td>89.485207</td>\n",
       "      <td>6.334212</td>\n",
       "      <td>0.69077</td>\n",
       "      <td>110.489998</td>\n",
       "      <td>14.706875</td>\n",
       "      <td>81.078987</td>\n",
       "    </tr>\n",
       "    <tr>\n",
       "      <th>2010-01-13</th>\n",
       "      <td>90.241066</td>\n",
       "      <td>6.423560</td>\n",
       "      <td>0.68852</td>\n",
       "      <td>111.540001</td>\n",
       "      <td>14.622441</td>\n",
       "      <td>80.905090</td>\n",
       "    </tr>\n",
       "    <tr>\n",
       "      <th>2010-01-14</th>\n",
       "      <td>90.485115</td>\n",
       "      <td>6.386357</td>\n",
       "      <td>0.68966</td>\n",
       "      <td>112.029999</td>\n",
       "      <td>14.691184</td>\n",
       "      <td>82.197235</td>\n",
       "    </tr>\n",
       "    <tr>\n",
       "      <th>2010-01-15</th>\n",
       "      <td>89.469482</td>\n",
       "      <td>6.279630</td>\n",
       "      <td>0.69488</td>\n",
       "      <td>110.860001</td>\n",
       "      <td>14.445853</td>\n",
       "      <td>81.867981</td>\n",
       "    </tr>\n",
       "    <tr>\n",
       "      <th>2010-01-19</th>\n",
       "      <td>90.587448</td>\n",
       "      <td>6.557429</td>\n",
       "      <td>0.70023</td>\n",
       "      <td>111.519997</td>\n",
       "      <td>14.635642</td>\n",
       "      <td>83.334114</td>\n",
       "    </tr>\n",
       "    <tr>\n",
       "      <th>2010-01-20</th>\n",
       "      <td>89.666298</td>\n",
       "      <td>6.456495</td>\n",
       "      <td>0.70870</td>\n",
       "      <td>108.940002</td>\n",
       "      <td>14.456065</td>\n",
       "      <td>80.917511</td>\n",
       "    </tr>\n",
       "    <tr>\n",
       "      <th>2010-01-21</th>\n",
       "      <td>87.942085</td>\n",
       "      <td>6.344884</td>\n",
       "      <td>0.70937</td>\n",
       "      <td>107.370003</td>\n",
       "      <td>14.520075</td>\n",
       "      <td>80.140945</td>\n",
       "    </tr>\n",
       "    <tr>\n",
       "      <th>2010-01-22</th>\n",
       "      <td>85.981697</td>\n",
       "      <td>6.030188</td>\n",
       "      <td>0.70716</td>\n",
       "      <td>107.169998</td>\n",
       "      <td>13.698903</td>\n",
       "      <td>77.966560</td>\n",
       "    </tr>\n",
       "    <tr>\n",
       "      <th>2010-01-25</th>\n",
       "      <td>86.422577</td>\n",
       "      <td>6.192417</td>\n",
       "      <td>0.70671</td>\n",
       "      <td>107.480003</td>\n",
       "      <td>13.449588</td>\n",
       "      <td>78.351738</td>\n",
       "    </tr>\n",
       "    <tr>\n",
       "      <th>2010-01-26</th>\n",
       "      <td>86.060425</td>\n",
       "      <td>6.279935</td>\n",
       "      <td>0.71011</td>\n",
       "      <td>107.559998</td>\n",
       "      <td>13.509862</td>\n",
       "      <td>78.121887</td>\n",
       "    </tr>\n",
       "    <tr>\n",
       "      <th>2010-01-27</th>\n",
       "      <td>86.469833</td>\n",
       "      <td>6.339094</td>\n",
       "      <td>0.71271</td>\n",
       "      <td>106.529999</td>\n",
       "      <td>13.501892</td>\n",
       "      <td>78.482201</td>\n",
       "    </tr>\n",
       "    <tr>\n",
       "      <th>2010-01-28</th>\n",
       "      <td>85.477844</td>\n",
       "      <td>6.077149</td>\n",
       "      <td>0.71592</td>\n",
       "      <td>106.480003</td>\n",
       "      <td>13.307371</td>\n",
       "      <td>76.879349</td>\n",
       "    </tr>\n",
       "    <tr>\n",
       "      <th>2010-01-29</th>\n",
       "      <td>84.548813</td>\n",
       "      <td>5.856677</td>\n",
       "      <td>0.72114</td>\n",
       "      <td>105.959999</td>\n",
       "      <td>13.199027</td>\n",
       "      <td>76.034492</td>\n",
       "    </tr>\n",
       "  </tbody>\n",
       "</table>\n",
       "</div>"
      ],
      "text/plain": [
       "                  SPY      AAPL    EUR=X         GLD       GOOG        IBM\n",
       "2010-01-04  89.225403  6.526021  0.69329  109.800003  15.610239  82.284264\n",
       "2010-01-05  89.461594  6.537304  0.69609  109.699997  15.541497  81.290245\n",
       "2010-01-06  89.524605  6.433318  0.69425  111.510002  15.149715  80.762169\n",
       "2010-01-07  89.902489  6.421426  0.69842  110.820000  14.797037  80.482605\n",
       "2010-01-08  90.201660  6.464118  0.69391  111.370003  14.994298  81.290245\n",
       "2010-01-11  90.327644  6.407094  0.68912  112.849998  14.971633  80.439110\n",
       "2010-01-12  89.485207  6.334212  0.69077  110.489998  14.706875  81.078987\n",
       "2010-01-13  90.241066  6.423560  0.68852  111.540001  14.622441  80.905090\n",
       "2010-01-14  90.485115  6.386357  0.68966  112.029999  14.691184  82.197235\n",
       "2010-01-15  89.469482  6.279630  0.69488  110.860001  14.445853  81.867981\n",
       "2010-01-19  90.587448  6.557429  0.70023  111.519997  14.635642  83.334114\n",
       "2010-01-20  89.666298  6.456495  0.70870  108.940002  14.456065  80.917511\n",
       "2010-01-21  87.942085  6.344884  0.70937  107.370003  14.520075  80.140945\n",
       "2010-01-22  85.981697  6.030188  0.70716  107.169998  13.698903  77.966560\n",
       "2010-01-25  86.422577  6.192417  0.70671  107.480003  13.449588  78.351738\n",
       "2010-01-26  86.060425  6.279935  0.71011  107.559998  13.509862  78.121887\n",
       "2010-01-27  86.469833  6.339094  0.71271  106.529999  13.501892  78.482201\n",
       "2010-01-28  85.477844  6.077149  0.71592  106.480003  13.307371  76.879349\n",
       "2010-01-29  84.548813  5.856677  0.72114  105.959999  13.199027  76.034492"
      ]
     },
     "execution_count": 46,
     "metadata": {},
     "output_type": "execute_result"
    }
   ],
   "source": [
    "df1.loc['2010-01-01' : '2010-01-31']"
   ]
  },
  {
   "cell_type": "code",
   "execution_count": null,
   "id": "831e4313",
   "metadata": {},
   "outputs": [],
   "source": [
    "df1.loc['2010-01-01' : '2010-01-31', ['SPY','IBM']]"
   ]
  },
  {
   "cell_type": "markdown",
   "id": "76ea4446",
   "metadata": {},
   "source": [
    "## Read csv file"
   ]
  },
  {
   "cell_type": "code",
   "execution_count": null,
   "id": "9e353f52",
   "metadata": {},
   "outputs": [],
   "source": [
    "df = pd.read_csv(\"csv_data/SPY.csv\")\n",
    "df"
   ]
  },
  {
   "cell_type": "markdown",
   "id": "b4863e6c",
   "metadata": {},
   "source": [
    "## Find max close value"
   ]
  },
  {
   "cell_type": "code",
   "execution_count": null,
   "id": "3106b4c6",
   "metadata": {},
   "outputs": [],
   "source": [
    "def get_max_close(symbol):\n",
    "    df = pd.read_csv(\"csv_data/{}.csv\".format(symbol))\n",
    "    return df['Close'].max()"
   ]
  },
  {
   "cell_type": "code",
   "execution_count": null,
   "id": "d6063d94",
   "metadata": {},
   "outputs": [],
   "source": [
    "get_max_close('SPY')"
   ]
  },
  {
   "cell_type": "markdown",
   "id": "07d701b4",
   "metadata": {},
   "source": [
    "## plot values of Apple stock"
   ]
  },
  {
   "cell_type": "code",
   "execution_count": null,
   "id": "609246ef",
   "metadata": {},
   "outputs": [],
   "source": [
    "df = pd.read_csv(\"csv_data/AAPL.csv\")\n",
    "df['Adj Close']\n",
    "plt.plot(df['Adj Close'])"
   ]
  },
  {
   "cell_type": "markdown",
   "id": "081cca4f",
   "metadata": {},
   "source": [
    "## plot Close and Adj Close values"
   ]
  },
  {
   "cell_type": "code",
   "execution_count": 24,
   "id": "1ba241a9",
   "metadata": {},
   "outputs": [
    {
     "data": {
      "text/html": [
       "<div>\n",
       "<style scoped>\n",
       "    .dataframe tbody tr th:only-of-type {\n",
       "        vertical-align: middle;\n",
       "    }\n",
       "\n",
       "    .dataframe tbody tr th {\n",
       "        vertical-align: top;\n",
       "    }\n",
       "\n",
       "    .dataframe thead th {\n",
       "        text-align: right;\n",
       "    }\n",
       "</style>\n",
       "<table border=\"1\" class=\"dataframe\">\n",
       "  <thead>\n",
       "    <tr style=\"text-align: right;\">\n",
       "      <th></th>\n",
       "      <th>Date</th>\n",
       "      <th>Open</th>\n",
       "      <th>High</th>\n",
       "      <th>Low</th>\n",
       "      <th>Close</th>\n",
       "      <th>Adj Close</th>\n",
       "      <th>Volume</th>\n",
       "    </tr>\n",
       "  </thead>\n",
       "  <tbody>\n",
       "    <tr>\n",
       "      <th>0</th>\n",
       "      <td>2000-01-03</td>\n",
       "      <td>0.936384</td>\n",
       "      <td>1.004464</td>\n",
       "      <td>0.907924</td>\n",
       "      <td>0.999442</td>\n",
       "      <td>0.853356</td>\n",
       "      <td>535796800</td>\n",
       "    </tr>\n",
       "    <tr>\n",
       "      <th>1</th>\n",
       "      <td>2000-01-04</td>\n",
       "      <td>0.966518</td>\n",
       "      <td>0.987723</td>\n",
       "      <td>0.903460</td>\n",
       "      <td>0.915179</td>\n",
       "      <td>0.781409</td>\n",
       "      <td>512377600</td>\n",
       "    </tr>\n",
       "    <tr>\n",
       "      <th>2</th>\n",
       "      <td>2000-01-05</td>\n",
       "      <td>0.926339</td>\n",
       "      <td>0.987165</td>\n",
       "      <td>0.919643</td>\n",
       "      <td>0.928571</td>\n",
       "      <td>0.792844</td>\n",
       "      <td>778321600</td>\n",
       "    </tr>\n",
       "    <tr>\n",
       "      <th>3</th>\n",
       "      <td>2000-01-06</td>\n",
       "      <td>0.947545</td>\n",
       "      <td>0.955357</td>\n",
       "      <td>0.848214</td>\n",
       "      <td>0.848214</td>\n",
       "      <td>0.724232</td>\n",
       "      <td>767972800</td>\n",
       "    </tr>\n",
       "    <tr>\n",
       "      <th>4</th>\n",
       "      <td>2000-01-07</td>\n",
       "      <td>0.861607</td>\n",
       "      <td>0.901786</td>\n",
       "      <td>0.852679</td>\n",
       "      <td>0.888393</td>\n",
       "      <td>0.758538</td>\n",
       "      <td>460734400</td>\n",
       "    </tr>\n",
       "    <tr>\n",
       "      <th>...</th>\n",
       "      <td>...</td>\n",
       "      <td>...</td>\n",
       "      <td>...</td>\n",
       "      <td>...</td>\n",
       "      <td>...</td>\n",
       "      <td>...</td>\n",
       "      <td>...</td>\n",
       "    </tr>\n",
       "    <tr>\n",
       "      <th>5278</th>\n",
       "      <td>2020-12-23</td>\n",
       "      <td>132.160004</td>\n",
       "      <td>132.429993</td>\n",
       "      <td>130.779999</td>\n",
       "      <td>130.960007</td>\n",
       "      <td>129.621231</td>\n",
       "      <td>88223700</td>\n",
       "    </tr>\n",
       "    <tr>\n",
       "      <th>5279</th>\n",
       "      <td>2020-12-24</td>\n",
       "      <td>131.320007</td>\n",
       "      <td>133.460007</td>\n",
       "      <td>131.100006</td>\n",
       "      <td>131.970001</td>\n",
       "      <td>130.620880</td>\n",
       "      <td>54930100</td>\n",
       "    </tr>\n",
       "    <tr>\n",
       "      <th>5280</th>\n",
       "      <td>2020-12-28</td>\n",
       "      <td>133.990005</td>\n",
       "      <td>137.339996</td>\n",
       "      <td>133.509995</td>\n",
       "      <td>136.690002</td>\n",
       "      <td>135.292664</td>\n",
       "      <td>124486200</td>\n",
       "    </tr>\n",
       "    <tr>\n",
       "      <th>5281</th>\n",
       "      <td>2020-12-29</td>\n",
       "      <td>138.050003</td>\n",
       "      <td>138.789993</td>\n",
       "      <td>134.339996</td>\n",
       "      <td>134.869995</td>\n",
       "      <td>133.491257</td>\n",
       "      <td>121047300</td>\n",
       "    </tr>\n",
       "    <tr>\n",
       "      <th>5282</th>\n",
       "      <td>2020-12-30</td>\n",
       "      <td>135.580002</td>\n",
       "      <td>135.990005</td>\n",
       "      <td>133.399994</td>\n",
       "      <td>133.720001</td>\n",
       "      <td>132.352997</td>\n",
       "      <td>96452100</td>\n",
       "    </tr>\n",
       "  </tbody>\n",
       "</table>\n",
       "<p>5283 rows × 7 columns</p>\n",
       "</div>"
      ],
      "text/plain": [
       "            Date        Open        High         Low       Close   Adj Close  \\\n",
       "0     2000-01-03    0.936384    1.004464    0.907924    0.999442    0.853356   \n",
       "1     2000-01-04    0.966518    0.987723    0.903460    0.915179    0.781409   \n",
       "2     2000-01-05    0.926339    0.987165    0.919643    0.928571    0.792844   \n",
       "3     2000-01-06    0.947545    0.955357    0.848214    0.848214    0.724232   \n",
       "4     2000-01-07    0.861607    0.901786    0.852679    0.888393    0.758538   \n",
       "...          ...         ...         ...         ...         ...         ...   \n",
       "5278  2020-12-23  132.160004  132.429993  130.779999  130.960007  129.621231   \n",
       "5279  2020-12-24  131.320007  133.460007  131.100006  131.970001  130.620880   \n",
       "5280  2020-12-28  133.990005  137.339996  133.509995  136.690002  135.292664   \n",
       "5281  2020-12-29  138.050003  138.789993  134.339996  134.869995  133.491257   \n",
       "5282  2020-12-30  135.580002  135.990005  133.399994  133.720001  132.352997   \n",
       "\n",
       "         Volume  \n",
       "0     535796800  \n",
       "1     512377600  \n",
       "2     778321600  \n",
       "3     767972800  \n",
       "4     460734400  \n",
       "...         ...  \n",
       "5278   88223700  \n",
       "5279   54930100  \n",
       "5280  124486200  \n",
       "5281  121047300  \n",
       "5282   96452100  \n",
       "\n",
       "[5283 rows x 7 columns]"
      ]
     },
     "execution_count": 24,
     "metadata": {},
     "output_type": "execute_result"
    }
   ],
   "source": [
    "df = pd.read_csv(\"csv_data/AAPL.csv\")\n",
    "df"
   ]
  },
  {
   "cell_type": "code",
   "execution_count": 28,
   "id": "054c5a9d",
   "metadata": {},
   "outputs": [],
   "source": [
    "df_1 = df[['Close','Adj Close']]"
   ]
  },
  {
   "cell_type": "code",
   "execution_count": 26,
   "id": "edb7cc6a",
   "metadata": {},
   "outputs": [
    {
     "data": {
      "text/plain": [
       "[<matplotlib.lines.Line2D at 0x7f8ab3cfa910>,\n",
       " <matplotlib.lines.Line2D at 0x7f8ab3c479d0>]"
      ]
     },
     "execution_count": 26,
     "metadata": {},
     "output_type": "execute_result"
    },
    {
     "data": {
      "image/png": "[encoded data removed]",
      "text/plain": [
       "<Figure size 432x288 with 1 Axes>"
      ]
     },
     "metadata": {
      "needs_background": "light"
     },
     "output_type": "display_data"
    }
   ],
   "source": [
    "plt.plot(df[['Close' , 'Adj Close']])"
   ]
  },
  {
   "cell_type": "code",
   "execution_count": null,
   "id": "0c7bdd97",
   "metadata": {},
   "outputs": [],
   "source": []
  },
  {
   "cell_type": "code",
   "execution_count": null,
   "id": "90152b0f",
   "metadata": {},
   "outputs": [],
   "source": []
  }
 ],
 "metadata": {
  "kernelspec": {
   "display_name": "Python 3 (ipykernel)",
   "language": "python",
   "name": "python3"
  },
  "language_info": {
   "codemirror_mode": {
    "name": "ipython",
    "version": 3
   },
   "file_extension": ".py",
   "mimetype": "text/x-python",
   "name": "python",
   "nbconvert_exporter": "python",
   "pygments_lexer": "ipython3",
   "version": "3.8.10"
  }
 },
 "nbformat": 4,
 "nbformat_minor": 5
}
