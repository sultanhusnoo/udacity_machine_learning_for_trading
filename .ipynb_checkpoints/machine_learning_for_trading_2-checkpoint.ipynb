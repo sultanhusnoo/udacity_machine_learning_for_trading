{
 "cells": [
  {
   "cell_type": "code",
   "execution_count": 1,
   "id": "f758c27d",
   "metadata": {},
   "outputs": [],
   "source": [
    "import pandas as pd\n",
    "import matplotlib.pyplot as plt\n",
    "%matplotlib inline\n",
    "import numpy as np\n",
    "import time\n",
    "import scipy.optimize as spo"
   ]
  },
  {
   "cell_type": "code",
   "execution_count": null,
   "id": "9627767c",
   "metadata": {},
   "outputs": [],
   "source": []
  },
  {
   "cell_type": "code",
   "execution_count": null,
   "id": "55646619",
   "metadata": {},
   "outputs": [],
   "source": []
  },
  {
   "cell_type": "code",
   "execution_count": null,
   "id": "7228dc89",
   "metadata": {},
   "outputs": [],
   "source": []
  },
  {
   "cell_type": "code",
   "execution_count": null,
   "id": "f4e53e6a",
   "metadata": {},
   "outputs": [],
   "source": []
  },
  {
   "cell_type": "code",
   "execution_count": null,
   "id": "b7e44dc0",
   "metadata": {},
   "outputs": [],
   "source": []
  },
  {
   "cell_type": "code",
   "execution_count": null,
   "id": "c18fe91e",
   "metadata": {},
   "outputs": [],
   "source": []
  },
  {
   "cell_type": "markdown",
   "id": "8af1dac3",
   "metadata": {},
   "source": [
    "## Minimizer finds coefficients in Python 2 - Polynomial"
   ]
  },
  {
   "cell_type": "code",
   "execution_count": 99,
   "id": "e7b40c9c",
   "metadata": {},
   "outputs": [],
   "source": [
    "def error_poly(C_poly,data_poly):\n",
    "    err_poly = np.sum( (data_poly[:,1] - np.polyval(C_poly, data_poly[:,0]) ) **2 )\n",
    "    return err_poly"
   ]
  },
  {
   "cell_type": "code",
   "execution_count": 121,
   "id": "7de441c3",
   "metadata": {},
   "outputs": [],
   "source": [
    "def fit_poly(data, error_func):\n",
    "    # Generate initial geuss for poly model \n",
    "    Cgeuss = np.poly1d(np.ones(5, dtype = np.float32))\n",
    "    print(Cgeuss)\n",
    "    \n",
    "    # Plot initial geuss\n",
    "    x = np.linspace(-5,5,21)\n",
    "    plt.plot(x, np.polyval(Cgeuss,x), 'm--', label='Initial geuss')\n",
    "    \n",
    "    # Call optimizer\n",
    "    result = spo.minimize(error_func, Cgeuss, args=(data,), method='SLSQP', options={'disp':True})\n",
    "    return np.poly1d(result.x)"
   ]
  },
  {
   "cell_type": "code",
   "execution_count": 124,
   "id": "5b0d61fb",
   "metadata": {},
   "outputs": [],
   "source": [
    "def test_run_poly():\n",
    "    # Define original line\n",
    "    l_orig = np.float32([1.5, -10, -5, 60, 50])\n",
    "    x_orig = np.linspace(-10,10,21)\n",
    "    y_orig = np.polyval(l_orig, x_orig)\n",
    "    plt.plot(x_orig, y_orig,'b', linewidth=2.0, label = \"Original Line\")\n",
    "    \n",
    "    # Generate noisy data\n",
    "    noise_sigma = 1000.0\n",
    "    noise = np.random.normal(0, noise_sigma, y_orig.shape)\n",
    "    data = np.asarray([x_orig, y_orig+noise]).T\n",
    "    plt.plot(data[:,0], data[:,1],'go', label=\"Noisy Data Points\")\n",
    "    \n",
    "    # Try to fit a line to this data\n",
    "    l_fit = fit_poly(data,error_poly)\n",
    "    print(l_fit)\n",
    "    plt.plot(data[:,0], np.polyval(l_fit,x_orig),'r', label=\"Fitted Line\")\n",
    "    plt.legend()\n",
    "    "
   ]
  },
  {
   "cell_type": "code",
   "execution_count": 125,
   "id": "46a53276",
   "metadata": {},
   "outputs": [
    {
     "name": "stdout",
     "output_type": "stream",
     "text": [
      "   4     3     2\n",
      "1 x + 1 x + 1 x + 1 x + 1\n",
      "Optimization terminated successfully.    (Exit mode 0)\n",
      "            Current function value: 14570312.525246512\n",
      "            Iterations: 9\n",
      "            Function evaluations: 99\n",
      "            Gradient evaluations: 9\n",
      "       4         3         2\n",
      "1.526 x - 8.344 x - 7.509 x - 59.75 x - 11.15\n"
     ]
    },
    {
     "data": {
      "image/png": "[encoded data removed]",
      "text/plain": [
       "<Figure size 432x288 with 1 Axes>"
      ]
     },
     "metadata": {
      "needs_background": "light"
     },
     "output_type": "display_data"
    }
   ],
   "source": [
    "test_run_poly()"
   ]
  },
  {
   "cell_type": "code",
   "execution_count": null,
   "id": "98997506",
   "metadata": {},
   "outputs": [],
   "source": []
  },
  {
   "cell_type": "code",
   "execution_count": null,
   "id": "411e23cc",
   "metadata": {},
   "outputs": [],
   "source": []
  },
  {
   "cell_type": "markdown",
   "id": "9f3052ae",
   "metadata": {},
   "source": [
    "## Minimizer finds coefficients in Python 1"
   ]
  },
  {
   "cell_type": "code",
   "execution_count": 2,
   "id": "438bc457",
   "metadata": {},
   "outputs": [],
   "source": [
    "def error(line,data):\n",
    "    #print(data)\n",
    "    err = np.sum( (data[:,1] - (line[0]*data[:,0] + line[1]) ) **2 )\n",
    "    return err"
   ]
  },
  {
   "cell_type": "code",
   "execution_count": 103,
   "id": "4706b94e",
   "metadata": {},
   "outputs": [],
   "source": [
    "def test_run():\n",
    "    # Define original line\n",
    "    l_orig = np.float32([4,2])\n",
    "    x_orig = np.linspace(0,10,21)\n",
    "    y_orig = l_orig[0]*x_orig + l_orig[1]\n",
    "    plt.plot(x_orig, y_orig,'b', linewidth=2.0, label = \"Original Line\")\n",
    "    \n",
    "    # Generate noisy data\n",
    "    noise_sigma = 3.0\n",
    "    noise = np.random.normal(0, noise_sigma, y_orig.shape)\n",
    "    data = np.asarray([x_orig, y_orig+noise]).T\n",
    "    #plt.plot(data[:,0], data[:,1],'go',label=\"Noisy Data Points\")\n",
    "    plt.plot(data[:,0], data[:,1],label=\"Noisy Data Points\")\n",
    "    \n",
    "    # Try to fit a line to this data\n",
    "    l_fit = fit_line(data,error)\n",
    "    print(\"Fitted line: C0 = {}, C1 = {}\".format(l_fit[0],l_fit[1]))\n",
    "    plt.plot(data[:,0], l_fit[0]*data[:,0] + l_fit[1], label=\"Fitted Line\")\n",
    "    plt.legend()"
   ]
  },
  {
   "cell_type": "code",
   "execution_count": 106,
   "id": "56da508b",
   "metadata": {},
   "outputs": [],
   "source": [
    "def fit_line(data,error_func):\n",
    "    # Generate initial guess for line model\n",
    "    l = np.float32([0, np.mean(data[:,1])])\n",
    "    \n",
    "    # PLot initial guess\n",
    "    x_ends = np.float32([0,5])\n",
    "    plt.plot(x_ends, l[0]*x_ends + l[1], label='Initial Geuss')\n",
    "    \n",
    "    # Call optimizer\n",
    "    result = spo.minimize(error_func, l, args=(data,), method='SLSQP',options={'disp':True})\n",
    "    return result.x"
   ]
  },
  {
   "cell_type": "code",
   "execution_count": 108,
   "id": "22e61882",
   "metadata": {},
   "outputs": [
    {
     "name": "stdout",
     "output_type": "stream",
     "text": [
      "Optimization terminated successfully.    (Exit mode 0)\n",
      "            Current function value: 216.93189639413336\n",
      "            Iterations: 5\n",
      "            Function evaluations: 24\n",
      "            Gradient evaluations: 5\n",
      "Fitted line: C0 = 4.054760365670096, C1 = 1.5791815887471898\n"
     ]
    },
    {
     "data": {
      "image/png": "[encoded data removed]",
      "text/plain": [
       "<Figure size 432x288 with 1 Axes>"
      ]
     },
     "metadata": {
      "needs_background": "light"
     },
     "output_type": "display_data"
    }
   ],
   "source": [
    "test_run()"
   ]
  },
  {
   "cell_type": "code",
   "execution_count": null,
   "id": "0b3fafa0",
   "metadata": {},
   "outputs": [],
   "source": []
  },
  {
   "cell_type": "code",
   "execution_count": null,
   "id": "5d6b5a77",
   "metadata": {},
   "outputs": [],
   "source": []
  },
  {
   "cell_type": "markdown",
   "id": "caa2bf1c",
   "metadata": {},
   "source": [
    "## Optimizer - Minimizer"
   ]
  },
  {
   "cell_type": "code",
   "execution_count": 8,
   "id": "a6285328",
   "metadata": {},
   "outputs": [],
   "source": [
    "def f(X):\n",
    "    Y = (X - 1.5)**2 + 0.5\n",
    "    print(\"X = {}, Y = {}\".format(X,Y))\n",
    "    return Y"
   ]
  },
  {
   "cell_type": "code",
   "execution_count": 9,
   "id": "a8d7b5ed",
   "metadata": {},
   "outputs": [],
   "source": [
    "def test_run():\n",
    "    Xgeuss = 2.0\n",
    "    min_result = spo.minimize(f, Xgeuss, method='SLSQP', options={'disp':True})\n",
    "    print(\"Minima found at:\")\n",
    "    print(\"X = {}, Y = {}\".format(min_result.x, min_result.fun))"
   ]
  },
  {
   "cell_type": "code",
   "execution_count": 11,
   "id": "e957efa8",
   "metadata": {},
   "outputs": [
    {
     "name": "stdout",
     "output_type": "stream",
     "text": [
      "X = [2.], Y = [0.75]\n",
      "X = [2.], Y = [0.75]\n",
      "X = [2.00000001], Y = [0.75000001]\n",
      "X = [0.99999999], Y = [0.75000001]\n",
      "X = [1.5], Y = [0.5]\n",
      "X = [1.5], Y = [0.5]\n",
      "X = [1.50000001], Y = [0.5]\n",
      "Optimization terminated successfully.    (Exit mode 0)\n",
      "            Current function value: 0.5\n",
      "            Iterations: 2\n",
      "            Function evaluations: 7\n",
      "            Gradient evaluations: 2\n",
      "Minima found at:\n",
      "X = [1.5], Y = 0.5\n"
     ]
    }
   ],
   "source": [
    "test_run()"
   ]
  },
  {
   "cell_type": "code",
   "execution_count": null,
   "id": "3886b0f6",
   "metadata": {},
   "outputs": [],
   "source": []
  },
  {
   "cell_type": "code",
   "execution_count": null,
   "id": "a12535ab",
   "metadata": {},
   "outputs": [],
   "source": []
  },
  {
   "cell_type": "code",
   "execution_count": null,
   "id": "8216bba1",
   "metadata": {},
   "outputs": [],
   "source": []
  }
 ],
 "metadata": {
  "kernelspec": {
   "display_name": "Python 3 (ipykernel)",
   "language": "python",
   "name": "python3"
  },
  "language_info": {
   "codemirror_mode": {
    "name": "ipython",
    "version": 3
   },
   "file_extension": ".py",
   "mimetype": "text/x-python",
   "name": "python",
   "nbconvert_exporter": "python",
   "pygments_lexer": "ipython3",
   "version": "3.8.10"
  }
 },
 "nbformat": 4,
 "nbformat_minor": 5
}
