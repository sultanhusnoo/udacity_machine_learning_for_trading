{
 "cells": [
  {
   "cell_type": "code",
   "execution_count": 7,
   "id": "1065c0c2",
   "metadata": {},
   "outputs": [],
   "source": [
    "import pandas as pd\n",
    "import matplotlib.pyplot as plt\n",
    "%matplotlib inline\n",
    "import numpy as np\n",
    "import time"
   ]
  },
  {
   "cell_type": "code",
   "execution_count": null,
   "id": "22ce6e12",
   "metadata": {},
   "outputs": [],
   "source": []
  },
  {
   "cell_type": "code",
   "execution_count": null,
   "id": "9a7d132a",
   "metadata": {},
   "outputs": [],
   "source": []
  },
  {
   "cell_type": "code",
   "execution_count": null,
   "id": "1cbfc068",
   "metadata": {},
   "outputs": [],
   "source": []
  },
  {
   "cell_type": "code",
   "execution_count": null,
   "id": "e9529fa6",
   "metadata": {},
   "outputs": [],
   "source": []
  },
  {
   "cell_type": "code",
   "execution_count": null,
   "id": "d9299fcd",
   "metadata": {},
   "outputs": [],
   "source": []
  },
  {
   "cell_type": "code",
   "execution_count": null,
   "id": "7539c1b0",
   "metadata": {},
   "outputs": [],
   "source": []
  },
  {
   "cell_type": "markdown",
   "id": "23b3a0bd",
   "metadata": {},
   "source": [
    "## Scatterplots"
   ]
  },
  {
   "cell_type": "code",
   "execution_count": 133,
   "id": "a1d3ade6",
   "metadata": {},
   "outputs": [],
   "source": [
    "#df1"
   ]
  },
  {
   "cell_type": "code",
   "execution_count": 134,
   "id": "7db2d167",
   "metadata": {},
   "outputs": [],
   "source": [
    "df_scatter = pd.DataFrame(index=df1.index)\n",
    "df_scatter['SPY'] = df1['SPY']"
   ]
  },
  {
   "cell_type": "code",
   "execution_count": 135,
   "id": "508637c0",
   "metadata": {},
   "outputs": [],
   "source": [
    "df_scatter['SPY_dr'] = compute_daily_returns(df1['SPY'])"
   ]
  },
  {
   "cell_type": "code",
   "execution_count": 136,
   "id": "5bff4a35",
   "metadata": {},
   "outputs": [],
   "source": [
    "df_scatter['GLD'] = df1['GLD']\n",
    "#df_scatter"
   ]
  },
  {
   "cell_type": "code",
   "execution_count": 137,
   "id": "19f9bec3",
   "metadata": {},
   "outputs": [],
   "source": [
    "df_scatter['GLD_dr'] = compute_daily_returns(df1['GLD'])\n",
    "#df_scatter"
   ]
  },
  {
   "cell_type": "code",
   "execution_count": 138,
   "id": "c18b933d",
   "metadata": {},
   "outputs": [],
   "source": [
    "df_scatter['IBM'] = df1['IBM']\n",
    "df_scatter['IBM_dr'] = compute_daily_returns(df1['IBM'])\n",
    "#df_scatter"
   ]
  },
  {
   "cell_type": "code",
   "execution_count": 139,
   "id": "a5cd5ec3",
   "metadata": {},
   "outputs": [],
   "source": [
    "#plt.scatter(x=df_scatter['SPY_dr'], y=df_scatter['GLD_dr'], s=5)\n",
    "#plt.xlabel(\"SPY Daily Returns\")\n",
    "#plt.ylabel(\"GLD Daily Returns\")"
   ]
  },
  {
   "cell_type": "code",
   "execution_count": 140,
   "id": "e4580388",
   "metadata": {},
   "outputs": [
    {
     "name": "stdout",
     "output_type": "stream",
     "text": [
      "slope, beta:  0.7768105798558744 , y-intercept, alpha:  0.0001150243634594643\n"
     ]
    },
    {
     "data": {
      "text/plain": [
       "Text(0, 0.5, 'IBM Daily Returns')"
      ]
     },
     "execution_count": 140,
     "metadata": {},
     "output_type": "execute_result"
    },
    {
     "data": {
      "image/png": "[encoded data removed]",
      "text/plain": [
       "<Figure size 432x288 with 1 Axes>"
      ]
     },
     "metadata": {
      "needs_background": "light"
     },
     "output_type": "display_data"
    }
   ],
   "source": [
    "plt.scatter(x=df_scatter['SPY_dr'], y=df_scatter['IBM_dr'], s=5)\n",
    "\n",
    "#beta_IBM, alpha_IBM = np.polynomial.polynomial.Polynomial.fit(df_scatter['SPY_dr'], df_scatter['IBM_dr'],1)\n",
    "beta_IBM, alpha_IBM = np.polyfit(df_scatter['SPY_dr'], df_scatter['IBM_dr'],1)\n",
    "print('slope, beta: ',beta_IBM, ', y-intercept, alpha: ' ,alpha_IBM)\n",
    "\n",
    "plt.plot(df_scatter['SPY_dr'], beta_IBM*df_scatter['SPY_dr'] + alpha_IBM, '-', color='r')\n",
    "\n",
    "plt.xlabel(\"SPY Daily Returns\")\n",
    "plt.ylabel(\"IBM Daily Returns\")"
   ]
  },
  {
   "cell_type": "code",
   "execution_count": 141,
   "id": "c96ed722",
   "metadata": {},
   "outputs": [
    {
     "name": "stdout",
     "output_type": "stream",
     "text": [
      "             SPY    SPY_dr       GLD    GLD_dr       IBM    IBM_dr\n",
      "SPY     1.000000  0.143994  0.587667  0.064607  0.830918  0.135199\n",
      "SPY_dr  0.143994  1.000000  0.052076  0.186384  0.100571  0.781875\n",
      "GLD     0.587667  0.052076  1.000000  0.099879  0.870330  0.073993\n",
      "GLD_dr  0.064607  0.186384  0.099879  1.000000  0.032394  0.153024\n",
      "IBM     0.830918  0.100571  0.870330  0.032394  1.000000  0.134146\n",
      "IBM_dr  0.135199  0.781875  0.073993  0.153024  0.134146  1.000000\n"
     ]
    }
   ],
   "source": [
    "print(df_scatter.corr(method='pearson'))"
   ]
  },
  {
   "cell_type": "code",
   "execution_count": null,
   "id": "aa52824b",
   "metadata": {},
   "outputs": [],
   "source": []
  },
  {
   "cell_type": "markdown",
   "id": "1ae28db9",
   "metadata": {},
   "source": [
    "## Histograms"
   ]
  },
  {
   "cell_type": "code",
   "execution_count": 81,
   "id": "36014b2b",
   "metadata": {},
   "outputs": [],
   "source": [
    "df_histo = pd.read_csv(\"csv_data/SPY.csv\", index_col = \"Date\", \n",
    "                    parse_dates=True, usecols = ['Date','Adj Close'],\n",
    "                    na_values=['nan']) "
   ]
  },
  {
   "cell_type": "code",
   "execution_count": 82,
   "id": "3e369467",
   "metadata": {},
   "outputs": [],
   "source": [
    "def compute_daily_returns(big_df):\n",
    "    # Compute daily returns of stock data\n",
    "    daily_returns = big_df.copy()\n",
    "    daily_returns[1:] = (big_df[1:] / big_df[:-1].values) - 1\n",
    "    daily_returns.iloc[0] = 0\n",
    "    return daily_returns"
   ]
  },
  {
   "cell_type": "code",
   "execution_count": 83,
   "id": "acbd9d84",
   "metadata": {},
   "outputs": [
    {
     "data": {
      "text/plain": [
       "[<matplotlib.lines.Line2D at 0x7f21f77f5df0>]"
      ]
     },
     "execution_count": 83,
     "metadata": {},
     "output_type": "execute_result"
    },
    {
     "data": {
      "image/png": "[encoded data removed]",
      "text/plain": [
       "<Figure size 432x288 with 1 Axes>"
      ]
     },
     "metadata": {
      "needs_background": "light"
     },
     "output_type": "display_data"
    }
   ],
   "source": [
    "my_daily_returns = compute_daily_returns(df_histo)\n",
    "plt.plot(my_daily_returns)"
   ]
  },
  {
   "cell_type": "code",
   "execution_count": null,
   "id": "76fffdd7",
   "metadata": {},
   "outputs": [],
   "source": []
  },
  {
   "cell_type": "code",
   "execution_count": 84,
   "id": "2065662d",
   "metadata": {},
   "outputs": [
    {
     "name": "stdout",
     "output_type": "stream",
     "text": [
      "Adj Close    0.000331\n",
      "dtype: float64\n",
      "Adj Close    0.012533\n",
      "dtype: float64\n"
     ]
    }
   ],
   "source": [
    "mean_spy_dr = my_daily_returns.mean()\n",
    "print(mean_spy_dr)\n",
    "std_spy_dr  = my_daily_returns.std()\n",
    "print(std_spy_dr)"
   ]
  },
  {
   "cell_type": "code",
   "execution_count": null,
   "id": "ee0e6de2",
   "metadata": {},
   "outputs": [],
   "source": []
  },
  {
   "cell_type": "code",
   "execution_count": 85,
   "id": "373dedf0",
   "metadata": {},
   "outputs": [
    {
     "name": "stdout",
     "output_type": "stream",
     "text": [
      "0\n",
      "0\n"
     ]
    },
    {
     "data": {
      "image/png": "[encoded data removed]",
      "text/plain": [
       "<Figure size 432x288 with 1 Axes>"
      ]
     },
     "metadata": {
      "needs_background": "light"
     },
     "output_type": "display_data"
    }
   ],
   "source": [
    "plt.hist(my_daily_returns, bins = 50)\n",
    "print(int(mean_spy_dr))\n",
    "plt.axvline(float(mean_spy_dr), color='w', linestyle='dashed', linewidth = 1)\n",
    "print(int(std_spy_dr))\n",
    "plt.axvline(float(std_spy_dr), color='r', linestyle='dashed', linewidth = 1)\n",
    "plt.axvline(float(-std_spy_dr), color='r', linestyle='dashed', linewidth = 1)\n",
    "plt.show()"
   ]
  },
  {
   "cell_type": "code",
   "execution_count": 86,
   "id": "c4fdf4b9",
   "metadata": {},
   "outputs": [
    {
     "name": "stdout",
     "output_type": "stream",
     "text": [
      "Adj Close    12.237061\n",
      "dtype: float64\n"
     ]
    }
   ],
   "source": [
    "print(my_daily_returns.kurtosis())"
   ]
  },
  {
   "cell_type": "code",
   "execution_count": null,
   "id": "91e48f2e",
   "metadata": {},
   "outputs": [],
   "source": []
  },
  {
   "cell_type": "markdown",
   "id": "b2e5ee1e",
   "metadata": {},
   "source": [
    "## Incomplete Data - Back Filling - Forward Filling"
   ]
  },
  {
   "cell_type": "code",
   "execution_count": 87,
   "id": "7e2d94b5",
   "metadata": {},
   "outputs": [],
   "source": [
    "df_fake2 = pd.read_csv(\"csv_data/FAKE2.csv\", index_col = \"Date\", \n",
    "                    parse_dates=True, usecols = ['Date','Adj Close'],\n",
    "                    na_values=['nan']) "
   ]
  },
  {
   "cell_type": "code",
   "execution_count": 88,
   "id": "2fa1ff7f",
   "metadata": {},
   "outputs": [
    {
     "data": {
      "text/plain": [
       "Text(0.5, 1.0, 'Incomplete data of FAKE2')"
      ]
     },
     "execution_count": 88,
     "metadata": {},
     "output_type": "execute_result"
    },
    {
     "data": {
      "image/png": "[encoded data removed]",
      "text/plain": [
       "<Figure size 432x288 with 1 Axes>"
      ]
     },
     "metadata": {
      "needs_background": "light"
     },
     "output_type": "display_data"
    }
   ],
   "source": [
    "plt.plot(df_fake2)\n",
    "plt.xlabel(\"Dates\")\n",
    "plt.ylabel(\"Price\")\n",
    "plt.title(\"Incomplete data of FAKE2\")"
   ]
  },
  {
   "cell_type": "code",
   "execution_count": 89,
   "id": "789c5359",
   "metadata": {},
   "outputs": [
    {
     "data": {
      "text/plain": [
       "[<matplotlib.lines.Line2D at 0x7f21f77100a0>]"
      ]
     },
     "execution_count": 89,
     "metadata": {},
     "output_type": "execute_result"
    },
    {
     "data": {
      "image/png": "[encoded data removed]",
      "text/plain": [
       "<Figure size 432x288 with 1 Axes>"
      ]
     },
     "metadata": {
      "needs_background": "light"
     },
     "output_type": "display_data"
    }
   ],
   "source": [
    "df_fake2.fillna(method='ffill', inplace=True)\n",
    "plt.plot(df_fake2)"
   ]
  },
  {
   "cell_type": "code",
   "execution_count": null,
   "id": "87c93fc6",
   "metadata": {},
   "outputs": [],
   "source": []
  },
  {
   "cell_type": "markdown",
   "id": "fe2b6ac3",
   "metadata": {},
   "source": [
    "## Computing rolling statistics"
   ]
  },
  {
   "cell_type": "code",
   "execution_count": 90,
   "id": "b31d79b2",
   "metadata": {},
   "outputs": [
    {
     "ename": "NameError",
     "evalue": "name 'df1' is not defined",
     "output_type": "error",
     "traceback": [
      "\u001b[0;31m---------------------------------------------------------------------------\u001b[0m",
      "\u001b[0;31mNameError\u001b[0m                                 Traceback (most recent call last)",
      "Input \u001b[0;32mIn [90]\u001b[0m, in \u001b[0;36m<cell line: 1>\u001b[0;34m()\u001b[0m\n\u001b[0;32m----> 1\u001b[0m df_spy \u001b[38;5;241m=\u001b[39m pd\u001b[38;5;241m.\u001b[39mDataFrame(index\u001b[38;5;241m=\u001b[39m\u001b[43mdf1\u001b[49m\u001b[38;5;241m.\u001b[39mindex)\n\u001b[1;32m      2\u001b[0m df_spy_data \u001b[38;5;241m=\u001b[39m df1[\u001b[38;5;124m'\u001b[39m\u001b[38;5;124mSPY\u001b[39m\u001b[38;5;124m'\u001b[39m]\n\u001b[1;32m      3\u001b[0m df_spy[\u001b[38;5;124m'\u001b[39m\u001b[38;5;124mSPY\u001b[39m\u001b[38;5;124m'\u001b[39m] \u001b[38;5;241m=\u001b[39m df_spy_data\n",
      "\u001b[0;31mNameError\u001b[0m: name 'df1' is not defined"
     ]
    }
   ],
   "source": [
    "df_spy = pd.DataFrame(index=df1.index)\n",
    "df_spy_data = df1['SPY']\n",
    "df_spy['SPY'] = df_spy_data\n",
    "df_spy"
   ]
  },
  {
   "cell_type": "code",
   "execution_count": null,
   "id": "19fbe2d8",
   "metadata": {},
   "outputs": [],
   "source": []
  },
  {
   "cell_type": "code",
   "execution_count": 91,
   "id": "ab59cb0b",
   "metadata": {},
   "outputs": [
    {
     "ename": "NameError",
     "evalue": "name 'df_spy' is not defined",
     "output_type": "error",
     "traceback": [
      "\u001b[0;31m---------------------------------------------------------------------------\u001b[0m",
      "\u001b[0;31mNameError\u001b[0m                                 Traceback (most recent call last)",
      "Input \u001b[0;32mIn [91]\u001b[0m, in \u001b[0;36m<cell line: 1>\u001b[0;34m()\u001b[0m\n\u001b[0;32m----> 1\u001b[0m plt\u001b[38;5;241m.\u001b[39mplot(\u001b[43mdf_spy\u001b[49m[\u001b[38;5;124m'\u001b[39m\u001b[38;5;124mSPY\u001b[39m\u001b[38;5;124m'\u001b[39m])\n\u001b[1;32m      2\u001b[0m plt\u001b[38;5;241m.\u001b[39mtitle(\u001b[38;5;124m\"\u001b[39m\u001b[38;5;124mSPY Rolling Mean\u001b[39m\u001b[38;5;124m\"\u001b[39m)\n\u001b[1;32m      3\u001b[0m plt\u001b[38;5;241m.\u001b[39mxlabel(\u001b[38;5;124m'\u001b[39m\u001b[38;5;124mTime\u001b[39m\u001b[38;5;124m'\u001b[39m)\n",
      "\u001b[0;31mNameError\u001b[0m: name 'df_spy' is not defined"
     ]
    }
   ],
   "source": [
    "plt.plot(df_spy['SPY'])\n",
    "plt.title(\"SPY Rolling Mean\")\n",
    "plt.xlabel('Time')\n",
    "plt.ylabel('Price')"
   ]
  },
  {
   "cell_type": "code",
   "execution_count": 92,
   "id": "168fed22",
   "metadata": {},
   "outputs": [
    {
     "ename": "NameError",
     "evalue": "name 'df_spy' is not defined",
     "output_type": "error",
     "traceback": [
      "\u001b[0;31m---------------------------------------------------------------------------\u001b[0m",
      "\u001b[0;31mNameError\u001b[0m                                 Traceback (most recent call last)",
      "Input \u001b[0;32mIn [92]\u001b[0m, in \u001b[0;36m<cell line: 1>\u001b[0;34m()\u001b[0m\n\u001b[0;32m----> 1\u001b[0m rm_df_spy \u001b[38;5;241m=\u001b[39m \u001b[43mdf_spy\u001b[49m[\u001b[38;5;124m'\u001b[39m\u001b[38;5;124mSPY\u001b[39m\u001b[38;5;124m'\u001b[39m]\u001b[38;5;241m.\u001b[39mrolling(\u001b[38;5;241m20\u001b[39m)\u001b[38;5;241m.\u001b[39mmean()\n\u001b[1;32m      2\u001b[0m rm_df_spy\n",
      "\u001b[0;31mNameError\u001b[0m: name 'df_spy' is not defined"
     ]
    }
   ],
   "source": [
    "rm_df_spy = df_spy['SPY'].rolling(20).mean()\n",
    "rm_df_spy"
   ]
  },
  {
   "cell_type": "code",
   "execution_count": 93,
   "id": "265991b5",
   "metadata": {},
   "outputs": [
    {
     "ename": "NameError",
     "evalue": "name 'rm_df_spy' is not defined",
     "output_type": "error",
     "traceback": [
      "\u001b[0;31m---------------------------------------------------------------------------\u001b[0m",
      "\u001b[0;31mNameError\u001b[0m                                 Traceback (most recent call last)",
      "Input \u001b[0;32mIn [93]\u001b[0m, in \u001b[0;36m<cell line: 1>\u001b[0;34m()\u001b[0m\n\u001b[0;32m----> 1\u001b[0m df_spy[\u001b[38;5;124m'\u001b[39m\u001b[38;5;124mSPY_rm\u001b[39m\u001b[38;5;124m'\u001b[39m] \u001b[38;5;241m=\u001b[39m \u001b[43mrm_df_spy\u001b[49m\n\u001b[1;32m      2\u001b[0m df_spy\u001b[38;5;241m.\u001b[39mdropna()\n",
      "\u001b[0;31mNameError\u001b[0m: name 'rm_df_spy' is not defined"
     ]
    }
   ],
   "source": [
    "df_spy['SPY_rm'] = rm_df_spy\n",
    "df_spy.dropna()"
   ]
  },
  {
   "cell_type": "code",
   "execution_count": 94,
   "id": "a094ab37",
   "metadata": {},
   "outputs": [
    {
     "ename": "NameError",
     "evalue": "name 'df_spy' is not defined",
     "output_type": "error",
     "traceback": [
      "\u001b[0;31m---------------------------------------------------------------------------\u001b[0m",
      "\u001b[0;31mNameError\u001b[0m                                 Traceback (most recent call last)",
      "Input \u001b[0;32mIn [94]\u001b[0m, in \u001b[0;36m<cell line: 1>\u001b[0;34m()\u001b[0m\n\u001b[0;32m----> 1\u001b[0m plt\u001b[38;5;241m.\u001b[39mplot(\u001b[43mdf_spy\u001b[49m, label \u001b[38;5;241m=\u001b[39m df_spy\u001b[38;5;241m.\u001b[39mcolumns)\n\u001b[1;32m      2\u001b[0m plt\u001b[38;5;241m.\u001b[39mlegend(loc\u001b[38;5;241m=\u001b[39m\u001b[38;5;124m'\u001b[39m\u001b[38;5;124mupper right\u001b[39m\u001b[38;5;124m'\u001b[39m)\n",
      "\u001b[0;31mNameError\u001b[0m: name 'df_spy' is not defined"
     ]
    }
   ],
   "source": [
    "plt.plot(df_spy, label = df_spy.columns)\n",
    "plt.legend(loc='upper right')"
   ]
  },
  {
   "cell_type": "code",
   "execution_count": null,
   "id": "096a737c",
   "metadata": {},
   "outputs": [],
   "source": []
  },
  {
   "cell_type": "markdown",
   "id": "961c5025",
   "metadata": {},
   "source": [
    "## Global Statistics"
   ]
  },
  {
   "cell_type": "code",
   "execution_count": 95,
   "id": "6f3d47d3",
   "metadata": {},
   "outputs": [],
   "source": [
    "#df1"
   ]
  },
  {
   "cell_type": "code",
   "execution_count": 96,
   "id": "61feccc9",
   "metadata": {},
   "outputs": [
    {
     "ename": "NameError",
     "evalue": "name 'df1' is not defined",
     "output_type": "error",
     "traceback": [
      "\u001b[0;31m---------------------------------------------------------------------------\u001b[0m",
      "\u001b[0;31mNameError\u001b[0m                                 Traceback (most recent call last)",
      "Input \u001b[0;32mIn [96]\u001b[0m, in \u001b[0;36m<cell line: 1>\u001b[0;34m()\u001b[0m\n\u001b[0;32m----> 1\u001b[0m \u001b[43mdf1\u001b[49m\u001b[38;5;241m.\u001b[39mmean()\n",
      "\u001b[0;31mNameError\u001b[0m: name 'df1' is not defined"
     ]
    }
   ],
   "source": [
    "df1.mean()"
   ]
  },
  {
   "cell_type": "code",
   "execution_count": 97,
   "id": "193b1188",
   "metadata": {},
   "outputs": [
    {
     "ename": "NameError",
     "evalue": "name 'df1' is not defined",
     "output_type": "error",
     "traceback": [
      "\u001b[0;31m---------------------------------------------------------------------------\u001b[0m",
      "\u001b[0;31mNameError\u001b[0m                                 Traceback (most recent call last)",
      "Input \u001b[0;32mIn [97]\u001b[0m, in \u001b[0;36m<cell line: 1>\u001b[0;34m()\u001b[0m\n\u001b[0;32m----> 1\u001b[0m \u001b[43mdf1\u001b[49m\u001b[38;5;241m.\u001b[39mmedian()\n",
      "\u001b[0;31mNameError\u001b[0m: name 'df1' is not defined"
     ]
    }
   ],
   "source": [
    "df1.median()"
   ]
  },
  {
   "cell_type": "code",
   "execution_count": 98,
   "id": "bdf765ad",
   "metadata": {},
   "outputs": [
    {
     "ename": "NameError",
     "evalue": "name 'df1' is not defined",
     "output_type": "error",
     "traceback": [
      "\u001b[0;31m---------------------------------------------------------------------------\u001b[0m",
      "\u001b[0;31mNameError\u001b[0m                                 Traceback (most recent call last)",
      "Input \u001b[0;32mIn [98]\u001b[0m, in \u001b[0;36m<cell line: 1>\u001b[0;34m()\u001b[0m\n\u001b[0;32m----> 1\u001b[0m \u001b[43mdf1\u001b[49m\u001b[38;5;241m.\u001b[39mstd()\n",
      "\u001b[0;31mNameError\u001b[0m: name 'df1' is not defined"
     ]
    }
   ],
   "source": [
    "df1.std()"
   ]
  },
  {
   "cell_type": "markdown",
   "id": "471ae5ab",
   "metadata": {},
   "source": [
    "## Arithmetic Operations"
   ]
  },
  {
   "cell_type": "code",
   "execution_count": 99,
   "id": "d3ae4d0e",
   "metadata": {},
   "outputs": [
    {
     "name": "stdout",
     "output_type": "stream",
     "text": [
      "[[11  8  2]\n",
      " [ 2 14  9]]\n",
      "[[17 11]\n",
      " [11 15]\n",
      " [19 12]]\n",
      "[[313 265]\n",
      " [359 340]]\n"
     ]
    }
   ],
   "source": [
    "np.random.seed(500)\n",
    "my_arr_6 = np.random.randint(1,15, size = (2,3))\n",
    "print(my_arr_6)\n",
    "my_arr_7 = np.random.randint(10,20, size = (3,2))\n",
    "print(my_arr_7)\n",
    "print(np.dot(my_arr_6, my_arr_7, out=None))"
   ]
  },
  {
   "cell_type": "code",
   "execution_count": 100,
   "id": "1b92643e",
   "metadata": {},
   "outputs": [
    {
     "name": "stdout",
     "output_type": "stream",
     "text": [
      "[[5 1 1]\n",
      " [1 7 3]\n",
      " [6 6 3]\n",
      " [8 5 6]\n",
      " [4 9 5]]\n",
      "[[1 3 3]\n",
      " [4 3 1]\n",
      " [4 1 1]\n",
      " [4 3 4]\n",
      " [3 3 1]]\n",
      "[[ 5  3  3]\n",
      " [ 4 21  3]\n",
      " [24  6  3]\n",
      " [32 15 24]\n",
      " [12 27  5]]\n"
     ]
    }
   ],
   "source": [
    "np.random.seed(850)\n",
    "my_arr_4 = np.random.randint(1,10, size = (5,3))\n",
    "print(my_arr_4)\n",
    "my_arr_5 = np.random.randint(1,5, size = (5,3))\n",
    "print(my_arr_5)\n",
    "print(my_arr_4 * my_arr_5)"
   ]
  },
  {
   "cell_type": "code",
   "execution_count": 101,
   "id": "1f2182a6",
   "metadata": {},
   "outputs": [
    {
     "name": "stdout",
     "output_type": "stream",
     "text": [
      "[[18 34 13]\n",
      " [49 33 25]\n",
      " [20 40 44]\n",
      " [12 44 24]]\n",
      "[[ 9.  17.   6.5]\n",
      " [24.5 16.5 12.5]\n",
      " [10.  20.  22. ]\n",
      " [ 6.  22.  12. ]]\n"
     ]
    }
   ],
   "source": [
    "np.random.seed(100)\n",
    "my_arr_3 = np.random.randint(10,50, size = (4,3))\n",
    "print(my_arr_3)\n",
    "print(my_arr_3 / 2)"
   ]
  },
  {
   "cell_type": "markdown",
   "id": "b3cce8f1",
   "metadata": {},
   "source": [
    "## Boolean or Mask index array"
   ]
  },
  {
   "cell_type": "code",
   "execution_count": 102,
   "id": "29864646",
   "metadata": {},
   "outputs": [
    {
     "name": "stdout",
     "output_type": "stream",
     "text": [
      "[[ 8 18]\n",
      " [ 5 10]\n",
      " [15  7]\n",
      " [15 24]\n",
      " [21 17]\n",
      " [13 10]\n",
      " [12 14]\n",
      " [ 6 13]]\n",
      "Mean:  13.0\n"
     ]
    }
   ],
   "source": [
    "np.random.seed(543)\n",
    "my_arr_2 = np.random.randint(1,25,size=(8,2))\n",
    "print(my_arr_2)\n",
    "my_arr_2_mean = my_arr_2.mean()\n",
    "print(\"Mean: \", my_arr_2_mean)"
   ]
  },
  {
   "cell_type": "code",
   "execution_count": 103,
   "id": "ef1efaec",
   "metadata": {},
   "outputs": [
    {
     "data": {
      "text/plain": [
       "array([[13, 18],\n",
       "       [13, 13],\n",
       "       [15, 13],\n",
       "       [15, 24],\n",
       "       [21, 17],\n",
       "       [13, 13],\n",
       "       [13, 14],\n",
       "       [13, 13]])"
      ]
     },
     "execution_count": 103,
     "metadata": {},
     "output_type": "execute_result"
    }
   ],
   "source": [
    "my_arr_2[my_arr_2 < my_arr_2_mean] = my_arr_2_mean\n",
    "my_arr_2"
   ]
  },
  {
   "cell_type": "markdown",
   "id": "11b976a5",
   "metadata": {},
   "source": [
    "## Working with ndarrays"
   ]
  },
  {
   "cell_type": "code",
   "execution_count": 104,
   "id": "a632764a",
   "metadata": {},
   "outputs": [
    {
     "name": "stdout",
     "output_type": "stream",
     "text": [
      "[0.17654448 0.33682062 0.17328738 0.89505449 0.93584041]\n",
      "[0.33682062 0.33682062 0.17328738 0.89505449]\n"
     ]
    }
   ],
   "source": [
    "my_array_1 = np.random.rand(5)\n",
    "print(my_array_1)\n",
    "indices = np.array([1,1,2,3])\n",
    "print(my_array_1[indices])"
   ]
  },
  {
   "cell_type": "code",
   "execution_count": 105,
   "id": "c96b76f8",
   "metadata": {},
   "outputs": [
    {
     "data": {
      "text/plain": [
       "array([[ 3,  9,  8, 12],\n",
       "       [ 0,  3, 19, 23],\n",
       "       [23,  4, 18, 14],\n",
       "       [15, 16,  9, 24],\n",
       "       [ 2, 16,  4, 17]])"
      ]
     },
     "execution_count": 105,
     "metadata": {},
     "output_type": "execute_result"
    }
   ],
   "source": [
    "an_array = np.random.randint(0,25, size = (5,4))\n",
    "an_array"
   ]
  },
  {
   "cell_type": "code",
   "execution_count": 106,
   "id": "b35462c0",
   "metadata": {},
   "outputs": [
    {
     "data": {
      "text/plain": [
       "array([[ 1,  9,  8, 12],\n",
       "       [ 0,  3, 19, 23],\n",
       "       [23,  4, 18, 14],\n",
       "       [15, 16,  9, 24],\n",
       "       [ 2, 16,  4, 17]])"
      ]
     },
     "execution_count": 106,
     "metadata": {},
     "output_type": "execute_result"
    }
   ],
   "source": [
    "an_array[0,0] = 1\n",
    "an_array"
   ]
  },
  {
   "cell_type": "markdown",
   "id": "da7bdaef",
   "metadata": {},
   "source": [
    "## How fast is NumPy?"
   ]
  },
  {
   "cell_type": "code",
   "execution_count": 107,
   "id": "f7006d98",
   "metadata": {},
   "outputs": [],
   "source": [
    "# Creating BIG array\n",
    "my_big_array = np.random.randint(0,25, size =(1000,10000))"
   ]
  },
  {
   "cell_type": "code",
   "execution_count": 108,
   "id": "8f2b74d0",
   "metadata": {},
   "outputs": [],
   "source": [
    "# Compute mean of array elements manually by iteration\n",
    "def manual_mean(big_arr):\n",
    "    sum = 0\n",
    "    for i in range(big_arr.shape[0]):\n",
    "        for j in range(big_arr.shape[1]):\n",
    "            sum += big_arr[i,j]\n",
    "    print(\"Manual Mean: \", (sum / big_arr.size))"
   ]
  },
  {
   "cell_type": "code",
   "execution_count": 109,
   "id": "d8a24614",
   "metadata": {},
   "outputs": [
    {
     "name": "stdout",
     "output_type": "stream",
     "text": [
      "Manual Mean:  12.008424\n"
     ]
    }
   ],
   "source": [
    "manual_mean(my_big_array)"
   ]
  },
  {
   "cell_type": "code",
   "execution_count": 110,
   "id": "a4f8bd7b",
   "metadata": {},
   "outputs": [],
   "source": [
    "# Compute mean of array elements by use of NumPy function\n",
    "def numpy_mean(big_arr):\n",
    "    print(\"NumPy Mean: \",big_arr.mean())"
   ]
  },
  {
   "cell_type": "code",
   "execution_count": 111,
   "id": "ee30497c",
   "metadata": {},
   "outputs": [
    {
     "name": "stdout",
     "output_type": "stream",
     "text": [
      "NumPy Mean:  12.008424\n"
     ]
    }
   ],
   "source": [
    "numpy_mean(my_big_array)"
   ]
  },
  {
   "cell_type": "code",
   "execution_count": 112,
   "id": "9ef97856",
   "metadata": {},
   "outputs": [
    {
     "name": "stdout",
     "output_type": "stream",
     "text": [
      "Manual Mean:  12.008424\n",
      "Manual computation took: 2.2831852436065674\n",
      "NumPy Mean:  12.008424\n",
      "NumPy mean took: 0.01312875747680664\n",
      "\n",
      "Difference is of value: 173.9071841063451\n"
     ]
    }
   ],
   "source": [
    "# Compare times taken to compute means\n",
    "t1 = time.time()\n",
    "manual_mean(my_big_array)\n",
    "t2 = time.time()\n",
    "d1 = t2 - t1\n",
    "print(\"Manual computation took: {}\".format(d1))\n",
    "\n",
    "t3 = time.time()\n",
    "numpy_mean(my_big_array)\n",
    "t4 = time.time()\n",
    "d2 = t4-t3\n",
    "print(\"NumPy mean took: {}\".format(d2))\n",
    "\n",
    "print(\"\\nDifference is of value: {}\".format(d1/d2))"
   ]
  },
  {
   "cell_type": "markdown",
   "id": "69456f7b",
   "metadata": {},
   "source": [
    "## Time function"
   ]
  },
  {
   "cell_type": "code",
   "execution_count": 113,
   "id": "e66bbcfc",
   "metadata": {},
   "outputs": [
    {
     "name": "stdout",
     "output_type": "stream",
     "text": [
      "Fuck you :D \n",
      "Prnt operation took:  0.000217437744140625\n"
     ]
    }
   ],
   "source": [
    "## Timing functions\n",
    "t1 = time.time()\n",
    "print(\"Fuck you :D \")\n",
    "t2 = time.time()\n",
    "print(\"Prnt operation took: \", t2-t1)"
   ]
  },
  {
   "cell_type": "markdown",
   "id": "1b3fac3f",
   "metadata": {},
   "source": [
    "## operations on ndarrays"
   ]
  },
  {
   "cell_type": "code",
   "execution_count": 114,
   "id": "0023ca57",
   "metadata": {},
   "outputs": [
    {
     "name": "stdout",
     "output_type": "stream",
     "text": [
      "My Array :\n",
      " [[ 7 17  4]\n",
      " [ 9 14  6]\n",
      " [14 23 20]\n",
      " [16 12  9]\n",
      " [11 13  5]]\n"
     ]
    }
   ],
   "source": [
    "np.random.seed(543)\n",
    "my_a = np.random.randint(0,25, size=(5,3))\n",
    "print(\"My Array :\\n\",my_a)"
   ]
  },
  {
   "cell_type": "code",
   "execution_count": 115,
   "id": "c01dd691",
   "metadata": {},
   "outputs": [
    {
     "name": "stdout",
     "output_type": "stream",
     "text": [
      "Sum of all elements:\n",
      " 180\n"
     ]
    }
   ],
   "source": [
    "print(\"Sum of all elements:\\n\",my_a.sum())"
   ]
  },
  {
   "cell_type": "code",
   "execution_count": 116,
   "id": "cf20569a",
   "metadata": {},
   "outputs": [
    {
     "name": "stdout",
     "output_type": "stream",
     "text": [
      "[57 79 44]\n"
     ]
    }
   ],
   "source": [
    "print(my_a.sum(axis=0))"
   ]
  },
  {
   "cell_type": "code",
   "execution_count": 117,
   "id": "e0ee849b",
   "metadata": {},
   "outputs": [
    {
     "name": "stdout",
     "output_type": "stream",
     "text": [
      "[28 29 57 37 29]\n"
     ]
    }
   ],
   "source": [
    "print(my_a.sum(axis=1))"
   ]
  },
  {
   "cell_type": "code",
   "execution_count": 118,
   "id": "fc7bec0f",
   "metadata": {},
   "outputs": [
    {
     "name": "stdout",
     "output_type": "stream",
     "text": [
      "[ 4  6 14  9  5]\n"
     ]
    }
   ],
   "source": [
    "print(my_a.min(axis=1))"
   ]
  },
  {
   "cell_type": "code",
   "execution_count": 119,
   "id": "cd163d96",
   "metadata": {},
   "outputs": [
    {
     "name": "stdout",
     "output_type": "stream",
     "text": [
      "12.0\n"
     ]
    }
   ],
   "source": [
    "print(my_a.mean())"
   ]
  },
  {
   "cell_type": "markdown",
   "id": "8b1498e2",
   "metadata": {},
   "source": [
    "## Create arrays"
   ]
  },
  {
   "cell_type": "code",
   "execution_count": 120,
   "id": "374d97f4",
   "metadata": {},
   "outputs": [
    {
     "data": {
      "text/plain": [
       "array([2.0e-323, 3.0e-323, 6.9e-323, 4.4e-323, 2.5e-323])"
      ]
     },
     "execution_count": 120,
     "metadata": {},
     "output_type": "execute_result"
    }
   ],
   "source": [
    "np.empty(5)"
   ]
  },
  {
   "cell_type": "code",
   "execution_count": 121,
   "id": "9dbc8f13",
   "metadata": {},
   "outputs": [
    {
     "data": {
      "text/plain": [
       "array([[ 9. , 17. ,  6.5],\n",
       "       [24.5, 16.5, 12.5],\n",
       "       [10. , 20. , 22. ],\n",
       "       [ 6. , 22. , 12. ]])"
      ]
     },
     "execution_count": 121,
     "metadata": {},
     "output_type": "execute_result"
    }
   ],
   "source": [
    "np.empty((4,3))"
   ]
  },
  {
   "cell_type": "code",
   "execution_count": 122,
   "id": "cbefbe54",
   "metadata": {},
   "outputs": [
    {
     "data": {
      "text/plain": [
       "array([[[1.2875319e-316, 0.0000000e+000, 6.6353016e-321, 2.5296161e-321,\n",
       "         6.6353016e-321],\n",
       "        [2.2727020e-321, 5.7163395e-321, 2.2727020e-321, 5.7163395e-321,\n",
       "         1.5069002e-321],\n",
       "        [5.7805681e-321, 1.5266628e-321, 5.9139658e-321, 1.5513661e-321,\n",
       "         5.9781943e-321]],\n",
       "\n",
       "       [[1.5513661e-321, 6.3586249e-321, 1.5513661e-321, 6.7983433e-321,\n",
       "         1.1314103e-321],\n",
       "        [6.7983433e-321, 7.7568306e-322, 6.7983433e-321, 4.1007449e-322,\n",
       "         6.3388622e-321],\n",
       "        [0.0000000e+000, 5.9189064e-321, 0.0000000e+000, 5.7756274e-321,\n",
       "         0.0000000e+000]],\n",
       "\n",
       "       [[5.4742474e-321, 4.9406565e-323, 5.3161463e-321, 9.8813129e-323,\n",
       "         5.3161463e-321],\n",
       "        [4.0513383e-322, 5.4544847e-321, 3.3102398e-322, 5.7509241e-321,\n",
       "         2.5691414e-322],\n",
       "        [5.9189064e-321, 2.5691414e-322, 6.1857019e-321, 2.5691414e-322,\n",
       "         6.4969632e-321]],\n",
       "\n",
       "       [[5.3359090e-322, 6.4969632e-321, 7.7568306e-322, 6.4969632e-321,\n",
       "         1.0177752e-321],\n",
       "        [6.1857019e-321, 1.2944520e-321, 5.9189064e-321, 1.2944520e-321,\n",
       "         5.7953900e-321],\n",
       "        [1.2944520e-321, 5.5434165e-321, 1.2401048e-321, 5.4149595e-321,\n",
       "         1.1808169e-321]]])"
      ]
     },
     "execution_count": 122,
     "metadata": {},
     "output_type": "execute_result"
    }
   ],
   "source": [
    "np.empty((4,3,5))"
   ]
  },
  {
   "cell_type": "code",
   "execution_count": 123,
   "id": "51dcd6a4",
   "metadata": {},
   "outputs": [
    {
     "data": {
      "text/plain": [
       "array([[1., 1., 1., 1., 1.],\n",
       "       [1., 1., 1., 1., 1.],\n",
       "       [1., 1., 1., 1., 1.],\n",
       "       [1., 1., 1., 1., 1.]])"
      ]
     },
     "execution_count": 123,
     "metadata": {},
     "output_type": "execute_result"
    }
   ],
   "source": [
    "np.ones((4,5))"
   ]
  },
  {
   "cell_type": "code",
   "execution_count": 124,
   "id": "f8def54e",
   "metadata": {},
   "outputs": [
    {
     "data": {
      "text/plain": [
       "array([[-0.23828185,  0.26557052],\n",
       "       [-1.00288868, -0.50090123],\n",
       "       [ 0.26795362, -2.63167315]])"
      ]
     },
     "execution_count": 124,
     "metadata": {},
     "output_type": "execute_result"
    }
   ],
   "source": [
    "np.random.normal(size = (3,2))"
   ]
  },
  {
   "cell_type": "code",
   "execution_count": 125,
   "id": "a19d99bd",
   "metadata": {},
   "outputs": [
    {
     "data": {
      "text/plain": [
       "array([[34.23523257, 41.88401046, 59.3317586 ],\n",
       "       [54.08129638, 52.12817226, 41.87580082],\n",
       "       [53.8807991 , 70.78692409, 69.72444069],\n",
       "       [53.02046499, 39.69530221, 65.5421997 ],\n",
       "       [57.66415275, 68.0844514 , 31.08594483]])"
      ]
     },
     "execution_count": 125,
     "metadata": {},
     "output_type": "execute_result"
    }
   ],
   "source": [
    "np.random.normal(50,10,size=(5,3))"
   ]
  },
  {
   "cell_type": "code",
   "execution_count": 126,
   "id": "7ef258ba",
   "metadata": {},
   "outputs": [],
   "source": [
    "a = np.random.randint(0,10,size=(5,3))"
   ]
  },
  {
   "cell_type": "code",
   "execution_count": 127,
   "id": "f6aa43bd",
   "metadata": {},
   "outputs": [
    {
     "data": {
      "text/plain": [
       "(5, 3)"
      ]
     },
     "execution_count": 127,
     "metadata": {},
     "output_type": "execute_result"
    }
   ],
   "source": [
    "a.shape"
   ]
  },
  {
   "cell_type": "markdown",
   "id": "57c669f4",
   "metadata": {},
   "source": [
    "## NumPy array access and slicing"
   ]
  },
  {
   "cell_type": "code",
   "execution_count": 128,
   "id": "90a8b441",
   "metadata": {},
   "outputs": [],
   "source": [
    "nd1 = np.random.rand(8,5)\n",
    "#nd1"
   ]
  },
  {
   "cell_type": "code",
   "execution_count": 129,
   "id": "1029277c",
   "metadata": {},
   "outputs": [
    {
     "data": {
      "text/plain": [
       "array([0.1825644 , 0.97734329, 0.15265694])"
      ]
     },
     "execution_count": 129,
     "metadata": {},
     "output_type": "execute_result"
    }
   ],
   "source": [
    "nd1[-1,1:4]"
   ]
  },
  {
   "cell_type": "markdown",
   "id": "779eb325",
   "metadata": {},
   "source": [
    "## Normalising and plotting multiple columns"
   ]
  },
  {
   "cell_type": "code",
   "execution_count": 130,
   "id": "d80e19e2",
   "metadata": {},
   "outputs": [
    {
     "ename": "NameError",
     "evalue": "name 'df1' is not defined",
     "output_type": "error",
     "traceback": [
      "\u001b[0;31m---------------------------------------------------------------------------\u001b[0m",
      "\u001b[0;31mNameError\u001b[0m                                 Traceback (most recent call last)",
      "Input \u001b[0;32mIn [130]\u001b[0m, in \u001b[0;36m<cell line: 1>\u001b[0;34m()\u001b[0m\n\u001b[0;32m----> 1\u001b[0m df_normalised \u001b[38;5;241m=\u001b[39m \u001b[43mdf1\u001b[49m \u001b[38;5;241m/\u001b[39m df1\u001b[38;5;241m.\u001b[39mloc[\u001b[38;5;124m'\u001b[39m\u001b[38;5;124m2010-01-04\u001b[39m\u001b[38;5;124m'\u001b[39m,:]\n",
      "\u001b[0;31mNameError\u001b[0m: name 'df1' is not defined"
     ]
    }
   ],
   "source": [
    "df_normalised = df1 / df1.loc['2010-01-04',:]"
   ]
  },
  {
   "cell_type": "code",
   "execution_count": null,
   "id": "94a57284",
   "metadata": {},
   "outputs": [],
   "source": [
    "#df_normalised"
   ]
  },
  {
   "cell_type": "code",
   "execution_count": null,
   "id": "d56613db",
   "metadata": {},
   "outputs": [],
   "source": [
    "symbols = ['SPY','IBM','GOOG', 'GLD']\n",
    "\n",
    "for symbol in symbols:\n",
    "    plt.plot(df_normalised[symbol], label=symbol)\n",
    "\n",
    "plt.title(\"Stock Prices\")\n",
    "plt.grid()\n",
    "plt.xlabel(\"Date\")\n",
    "plt.ylabel(\"Price\")\n",
    "plt.legend()\n"
   ]
  },
  {
   "cell_type": "markdown",
   "id": "f327d501",
   "metadata": {},
   "source": [
    "## Plotting multiple column data"
   ]
  },
  {
   "cell_type": "code",
   "execution_count": null,
   "id": "7b9b903e",
   "metadata": {},
   "outputs": [],
   "source": [
    "# Plot stock prices\n",
    "\n",
    "symbols = ['SPY','IBM','GOOG', 'GLD']\n",
    "\n",
    "for symbol in symbols:\n",
    "    plt.plot(df1[symbol], label=symbol)\n",
    "\n",
    "plt.title(\"Stock Prices\")\n",
    "plt.xlabel(\"Date\")\n",
    "plt.ylabel(\"Price\")\n",
    "plt.legend()\n"
   ]
  },
  {
   "cell_type": "markdown",
   "id": "6deae770",
   "metadata": {},
   "source": [
    "## join multiple dataframes, ensuring dates match each other"
   ]
  },
  {
   "cell_type": "code",
   "execution_count": 132,
   "id": "b64cdd06",
   "metadata": {},
   "outputs": [],
   "source": [
    "# Define date range\n",
    "start_date = '2010-01-01'\n",
    "end_date = '2010-12-31'\n",
    "dates = pd.date_range(start_date,end_date)\n",
    "    \n",
    "# Create an empty dataframe\n",
    "df1 = pd.DataFrame(index = dates)\n",
    "    \n",
    "# Read SPY data into temporary dataframe   \n",
    "dfSPY = pd.read_csv(\"csv_data/SPY.csv\", index_col = \"Date\", \n",
    "                    parse_dates=True, usecols = ['Date','Adj Close'],\n",
    "                    na_values=['nan'])                  \n",
    "    \n",
    "# Rename 'Adj Close' column to 'SPY' to prevent clash   \n",
    "dfSPY = dfSPY.rename(columns={'Adj Close':'SPY'})\n",
    "    \n",
    "# Join the two DataFrames using DataFrame.join()\n",
    "df1 = df1.join(dfSPY, how = 'inner')\n",
    "    \n",
    "# Drop the NaN values\n",
    "df1 = df1.dropna()\n",
    "\n",
    "# Read more stocks\n",
    "symbols = ['AAPL', 'EUR=X', 'GLD', 'GOOG', 'IBM']\n",
    "for symbol in symbols:\n",
    "    df_temp = pd.read_csv(\"csv_data/{}.csv\".format(symbol), index_col = \"Date\", \n",
    "                    parse_dates=True, usecols = ['Date','Adj Close'],\n",
    "                    na_values=['nan'])\n",
    "    df_temp = df_temp.rename(columns={'Adj Close' : symbol})\n",
    "    df1 = df1.join(df_temp) # use default how='left'\n",
    "    \n",
    "#print(df1)"
   ]
  },
  {
   "cell_type": "code",
   "execution_count": null,
   "id": "83076dd5",
   "metadata": {},
   "outputs": [],
   "source": [
    "#df1.loc['2010-01-01' : '2010-01-31']"
   ]
  },
  {
   "cell_type": "code",
   "execution_count": null,
   "id": "831e4313",
   "metadata": {},
   "outputs": [],
   "source": [
    "#df1.loc['2010-01-01' : '2010-01-31', ['SPY','IBM']]"
   ]
  },
  {
   "cell_type": "markdown",
   "id": "76ea4446",
   "metadata": {},
   "source": [
    "## Read csv file"
   ]
  },
  {
   "cell_type": "code",
   "execution_count": 131,
   "id": "9e353f52",
   "metadata": {},
   "outputs": [],
   "source": [
    "df = pd.read_csv(\"csv_data/SPY.csv\")\n",
    "#df"
   ]
  },
  {
   "cell_type": "markdown",
   "id": "b4863e6c",
   "metadata": {},
   "source": [
    "## Find max close value"
   ]
  },
  {
   "cell_type": "code",
   "execution_count": 66,
   "id": "3106b4c6",
   "metadata": {},
   "outputs": [],
   "source": [
    "def get_max_close(symbol):\n",
    "    df = pd.read_csv(\"csv_data/{}.csv\".format(symbol))\n",
    "    return df['Close'].max()"
   ]
  },
  {
   "cell_type": "code",
   "execution_count": 67,
   "id": "d6063d94",
   "metadata": {},
   "outputs": [
    {
     "data": {
      "text/plain": [
       "372.23999"
      ]
     },
     "execution_count": 67,
     "metadata": {},
     "output_type": "execute_result"
    }
   ],
   "source": [
    "get_max_close('SPY')"
   ]
  },
  {
   "cell_type": "markdown",
   "id": "07d701b4",
   "metadata": {},
   "source": [
    "## plot values of Apple stock"
   ]
  },
  {
   "cell_type": "code",
   "execution_count": 68,
   "id": "609246ef",
   "metadata": {},
   "outputs": [
    {
     "data": {
      "text/plain": [
       "[<matplotlib.lines.Line2D at 0x7f21f791e400>]"
      ]
     },
     "execution_count": 68,
     "metadata": {},
     "output_type": "execute_result"
    },
    {
     "data": {
      "image/png": "[encoded data removed]",
      "text/plain": [
       "<Figure size 432x288 with 1 Axes>"
      ]
     },
     "metadata": {
      "needs_background": "light"
     },
     "output_type": "display_data"
    }
   ],
   "source": [
    "df = pd.read_csv(\"csv_data/AAPL.csv\")\n",
    "df['Adj Close']\n",
    "plt.plot(df['Adj Close'])"
   ]
  },
  {
   "cell_type": "markdown",
   "id": "081cca4f",
   "metadata": {},
   "source": [
    "## plot Close and Adj Close values"
   ]
  },
  {
   "cell_type": "code",
   "execution_count": 69,
   "id": "1ba241a9",
   "metadata": {},
   "outputs": [],
   "source": [
    "df = pd.read_csv(\"csv_data/AAPL.csv\")\n",
    "#df"
   ]
  },
  {
   "cell_type": "code",
   "execution_count": 70,
   "id": "054c5a9d",
   "metadata": {},
   "outputs": [],
   "source": [
    "df_1 = df[['Close','Adj Close']]"
   ]
  },
  {
   "cell_type": "code",
   "execution_count": 71,
   "id": "edb7cc6a",
   "metadata": {},
   "outputs": [
    {
     "data": {
      "text/plain": [
       "[<matplotlib.lines.Line2D at 0x7f21f78b8160>,\n",
       " <matplotlib.lines.Line2D at 0x7f21f78cff40>]"
      ]
     },
     "execution_count": 71,
     "metadata": {},
     "output_type": "execute_result"
    },
    {
     "data": {
      "image/png": "[encoded data removed]",
      "text/plain": [
       "<Figure size 432x288 with 1 Axes>"
      ]
     },
     "metadata": {
      "needs_background": "light"
     },
     "output_type": "display_data"
    }
   ],
   "source": [
    "plt.plot(df[['Close' , 'Adj Close']])"
   ]
  },
  {
   "cell_type": "code",
   "execution_count": null,
   "id": "0c7bdd97",
   "metadata": {},
   "outputs": [],
   "source": []
  },
  {
   "cell_type": "code",
   "execution_count": null,
   "id": "90152b0f",
   "metadata": {},
   "outputs": [],
   "source": []
  }
 ],
 "metadata": {
  "kernelspec": {
   "display_name": "Python 3 (ipykernel)",
   "language": "python",
   "name": "python3"
  },
  "language_info": {
   "codemirror_mode": {
    "name": "ipython",
    "version": 3
   },
   "file_extension": ".py",
   "mimetype": "text/x-python",
   "name": "python",
   "nbconvert_exporter": "python",
   "pygments_lexer": "ipython3",
   "version": "3.8.10"
  }
 },
 "nbformat": 4,
 "nbformat_minor": 5
}
