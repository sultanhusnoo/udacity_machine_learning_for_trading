{
 "cells": [
  {
   "cell_type": "code",
   "execution_count": 1,
   "id": "1065c0c2",
   "metadata": {},
   "outputs": [],
   "source": [
    "import pandas as pd\n",
    "import matplotlib.pyplot as plt\n",
    "%matplotlib inline\n",
    "import numpy as np\n",
    "import time"
   ]
  },
  {
   "cell_type": "code",
   "execution_count": null,
   "id": "d9299fcd",
   "metadata": {},
   "outputs": [],
   "source": []
  },
  {
   "cell_type": "code",
   "execution_count": null,
   "id": "7539c1b0",
   "metadata": {},
   "outputs": [],
   "source": []
  },
  {
   "cell_type": "markdown",
   "id": "23b3a0bd",
   "metadata": {},
   "source": [
    "## Scatterplots"
   ]
  },
  {
   "cell_type": "code",
   "execution_count": 2,
   "id": "a1d3ade6",
   "metadata": {},
   "outputs": [],
   "source": [
    "#df1"
   ]
  },
  {
   "cell_type": "code",
   "execution_count": 3,
   "id": "7db2d167",
   "metadata": {},
   "outputs": [
    {
     "ename": "NameError",
     "evalue": "name 'df1' is not defined",
     "output_type": "error",
     "traceback": [
      "\u001b[0;31m---------------------------------------------------------------------------\u001b[0m",
      "\u001b[0;31mNameError\u001b[0m                                 Traceback (most recent call last)",
      "Input \u001b[0;32mIn [3]\u001b[0m, in \u001b[0;36m<cell line: 1>\u001b[0;34m()\u001b[0m\n\u001b[0;32m----> 1\u001b[0m df_scatter \u001b[38;5;241m=\u001b[39m pd\u001b[38;5;241m.\u001b[39mDataFrame(index\u001b[38;5;241m=\u001b[39m\u001b[43mdf1\u001b[49m\u001b[38;5;241m.\u001b[39mindex)\n\u001b[1;32m      2\u001b[0m df_scatter[\u001b[38;5;124m'\u001b[39m\u001b[38;5;124mSPY\u001b[39m\u001b[38;5;124m'\u001b[39m] \u001b[38;5;241m=\u001b[39m df1[\u001b[38;5;124m'\u001b[39m\u001b[38;5;124mSPY\u001b[39m\u001b[38;5;124m'\u001b[39m]\n",
      "\u001b[0;31mNameError\u001b[0m: name 'df1' is not defined"
     ]
    }
   ],
   "source": [
    "df_scatter = pd.DataFrame(index=df1.index)\n",
    "df_scatter['SPY'] = df1['SPY']"
   ]
  },
  {
   "cell_type": "code",
   "execution_count": null,
   "id": "508637c0",
   "metadata": {},
   "outputs": [],
   "source": [
    "df_scatter['SPY_dr'] = compute_daily_returns(df1['SPY'])"
   ]
  },
  {
   "cell_type": "code",
   "execution_count": null,
   "id": "5bff4a35",
   "metadata": {},
   "outputs": [],
   "source": [
    "df_scatter['GLD'] = df1['GLD']\n",
    "#df_scatter"
   ]
  },
  {
   "cell_type": "code",
   "execution_count": null,
   "id": "19f9bec3",
   "metadata": {},
   "outputs": [],
   "source": [
    "df_scatter['GLD_dr'] = compute_daily_returns(df1['GLD'])\n",
    "#df_scatter"
   ]
  },
  {
   "cell_type": "code",
   "execution_count": null,
   "id": "c18b933d",
   "metadata": {},
   "outputs": [],
   "source": [
    "df_scatter['IBM'] = df1['IBM']\n",
    "df_scatter['IBM_dr'] = compute_daily_returns(df1['IBM'])\n",
    "#df_scatter"
   ]
  },
  {
   "cell_type": "code",
   "execution_count": null,
   "id": "a5cd5ec3",
   "metadata": {},
   "outputs": [],
   "source": [
    "#plt.scatter(x=df_scatter['SPY_dr'], y=df_scatter['GLD_dr'], s=5)\n",
    "#plt.xlabel(\"SPY Daily Returns\")\n",
    "#plt.ylabel(\"GLD Daily Returns\")"
   ]
  },
  {
   "cell_type": "code",
   "execution_count": null,
   "id": "e4580388",
   "metadata": {},
   "outputs": [],
   "source": [
    "plt.scatter(x=df_scatter['SPY_dr'], y=df_scatter['IBM_dr'], s=5)\n",
    "\n",
    "#beta_IBM, alpha_IBM = np.polynomial.polynomial.Polynomial.fit(df_scatter['SPY_dr'], df_scatter['IBM_dr'],1)\n",
    "beta_IBM, alpha_IBM = np.polyfit(df_scatter['SPY_dr'], df_scatter['IBM_dr'],1)\n",
    "print('slope, beta: ',beta_IBM, ', y-intercept, alpha: ' ,alpha_IBM)\n",
    "\n",
    "plt.plot(df_scatter['SPY_dr'], beta_IBM*df_scatter['SPY_dr'] + alpha_IBM, '-', color='r')\n",
    "\n",
    "plt.xlabel(\"SPY Daily Returns\")\n",
    "plt.ylabel(\"IBM Daily Returns\")"
   ]
  },
  {
   "cell_type": "code",
   "execution_count": null,
   "id": "c96ed722",
   "metadata": {},
   "outputs": [],
   "source": [
    "print(df_scatter.corr(method='pearson'))"
   ]
  },
  {
   "cell_type": "code",
   "execution_count": null,
   "id": "aa52824b",
   "metadata": {},
   "outputs": [],
   "source": []
  },
  {
   "cell_type": "markdown",
   "id": "1ae28db9",
   "metadata": {},
   "source": [
    "## Histograms"
   ]
  },
  {
   "cell_type": "code",
   "execution_count": null,
   "id": "36014b2b",
   "metadata": {},
   "outputs": [],
   "source": [
    "df_histo = pd.read_csv(\"csv_data/SPY.csv\", index_col = \"Date\", \n",
    "                    parse_dates=True, usecols = ['Date','Adj Close'],\n",
    "                    na_values=['nan']) "
   ]
  },
  {
   "cell_type": "code",
   "execution_count": null,
   "id": "3e369467",
   "metadata": {},
   "outputs": [],
   "source": [
    "def compute_daily_returns(big_df):\n",
    "    # Compute daily returns of stock data\n",
    "    daily_returns = big_df.copy()\n",
    "    daily_returns[1:] = (big_df[1:] / big_df[:-1].values) - 1\n",
    "    daily_returns.iloc[0] = 0\n",
    "    return daily_returns"
   ]
  },
  {
   "cell_type": "code",
   "execution_count": null,
   "id": "acbd9d84",
   "metadata": {},
   "outputs": [],
   "source": [
    "my_daily_returns = compute_daily_returns(df_histo)\n",
    "plt.plot(my_daily_returns)"
   ]
  },
  {
   "cell_type": "code",
   "execution_count": null,
   "id": "76fffdd7",
   "metadata": {},
   "outputs": [],
   "source": []
  },
  {
   "cell_type": "code",
   "execution_count": null,
   "id": "2065662d",
   "metadata": {},
   "outputs": [],
   "source": [
    "mean_spy_dr = my_daily_returns.mean()\n",
    "print(mean_spy_dr)\n",
    "std_spy_dr  = my_daily_returns.std()\n",
    "print(std_spy_dr)"
   ]
  },
  {
   "cell_type": "code",
   "execution_count": null,
   "id": "ee0e6de2",
   "metadata": {},
   "outputs": [],
   "source": []
  },
  {
   "cell_type": "code",
   "execution_count": null,
   "id": "373dedf0",
   "metadata": {},
   "outputs": [],
   "source": [
    "plt.hist(my_daily_returns, bins = 50)\n",
    "print(int(mean_spy_dr))\n",
    "plt.axvline(float(mean_spy_dr), color='w', linestyle='dashed', linewidth = 1)\n",
    "print(int(std_spy_dr))\n",
    "plt.axvline(float(std_spy_dr), color='r', linestyle='dashed', linewidth = 1)\n",
    "plt.axvline(float(-std_spy_dr), color='r', linestyle='dashed', linewidth = 1)\n",
    "plt.show()"
   ]
  },
  {
   "cell_type": "code",
   "execution_count": null,
   "id": "c4fdf4b9",
   "metadata": {},
   "outputs": [],
   "source": [
    "print(my_daily_returns.kurtosis())"
   ]
  },
  {
   "cell_type": "code",
   "execution_count": null,
   "id": "91e48f2e",
   "metadata": {},
   "outputs": [],
   "source": []
  },
  {
   "cell_type": "markdown",
   "id": "b2e5ee1e",
   "metadata": {},
   "source": [
    "## Incomplete Data - Back Filling - Forward Filling"
   ]
  },
  {
   "cell_type": "code",
   "execution_count": null,
   "id": "7e2d94b5",
   "metadata": {},
   "outputs": [],
   "source": [
    "df_fake2 = pd.read_csv(\"csv_data/FAKE2.csv\", index_col = \"Date\", \n",
    "                    parse_dates=True, usecols = ['Date','Adj Close'],\n",
    "                    na_values=['nan']) "
   ]
  },
  {
   "cell_type": "code",
   "execution_count": null,
   "id": "2fa1ff7f",
   "metadata": {},
   "outputs": [],
   "source": [
    "plt.plot(df_fake2)\n",
    "plt.xlabel(\"Dates\")\n",
    "plt.ylabel(\"Price\")\n",
    "plt.title(\"Incomplete data of FAKE2\")"
   ]
  },
  {
   "cell_type": "code",
   "execution_count": null,
   "id": "789c5359",
   "metadata": {},
   "outputs": [],
   "source": [
    "df_fake2.fillna(method='ffill', inplace=True)\n",
    "plt.plot(df_fake2)"
   ]
  },
  {
   "cell_type": "code",
   "execution_count": null,
   "id": "87c93fc6",
   "metadata": {},
   "outputs": [],
   "source": []
  },
  {
   "cell_type": "markdown",
   "id": "fe2b6ac3",
   "metadata": {},
   "source": [
    "## Computing rolling statistics"
   ]
  },
  {
   "cell_type": "code",
   "execution_count": null,
   "id": "b31d79b2",
   "metadata": {},
   "outputs": [],
   "source": [
    "df_spy = pd.DataFrame(index=df1.index)\n",
    "df_spy_data = df1['SPY']\n",
    "df_spy['SPY'] = df_spy_data\n",
    "df_spy"
   ]
  },
  {
   "cell_type": "code",
   "execution_count": null,
   "id": "19fbe2d8",
   "metadata": {},
   "outputs": [],
   "source": []
  },
  {
   "cell_type": "code",
   "execution_count": null,
   "id": "ab59cb0b",
   "metadata": {},
   "outputs": [],
   "source": [
    "plt.plot(df_spy['SPY'])\n",
    "plt.title(\"SPY Rolling Mean\")\n",
    "plt.xlabel('Time')\n",
    "plt.ylabel('Price')"
   ]
  },
  {
   "cell_type": "code",
   "execution_count": null,
   "id": "168fed22",
   "metadata": {},
   "outputs": [],
   "source": [
    "rm_df_spy = df_spy['SPY'].rolling(20).mean()\n",
    "rm_df_spy"
   ]
  },
  {
   "cell_type": "code",
   "execution_count": null,
   "id": "265991b5",
   "metadata": {},
   "outputs": [],
   "source": [
    "df_spy['SPY_rm'] = rm_df_spy\n",
    "df_spy.dropna()"
   ]
  },
  {
   "cell_type": "code",
   "execution_count": null,
   "id": "a094ab37",
   "metadata": {},
   "outputs": [],
   "source": [
    "plt.plot(df_spy, label = df_spy.columns)\n",
    "plt.legend(loc='upper right')"
   ]
  },
  {
   "cell_type": "code",
   "execution_count": null,
   "id": "096a737c",
   "metadata": {},
   "outputs": [],
   "source": []
  },
  {
   "cell_type": "markdown",
   "id": "961c5025",
   "metadata": {},
   "source": [
    "## Global Statistics"
   ]
  },
  {
   "cell_type": "code",
   "execution_count": null,
   "id": "6f3d47d3",
   "metadata": {},
   "outputs": [],
   "source": [
    "#df1"
   ]
  },
  {
   "cell_type": "code",
   "execution_count": null,
   "id": "61feccc9",
   "metadata": {},
   "outputs": [],
   "source": [
    "df1.mean()"
   ]
  },
  {
   "cell_type": "code",
   "execution_count": null,
   "id": "193b1188",
   "metadata": {},
   "outputs": [],
   "source": [
    "df1.median()"
   ]
  },
  {
   "cell_type": "code",
   "execution_count": null,
   "id": "bdf765ad",
   "metadata": {},
   "outputs": [],
   "source": [
    "df1.std()"
   ]
  },
  {
   "cell_type": "markdown",
   "id": "471ae5ab",
   "metadata": {},
   "source": [
    "## Arithmetic Operations"
   ]
  },
  {
   "cell_type": "code",
   "execution_count": null,
   "id": "d3ae4d0e",
   "metadata": {},
   "outputs": [],
   "source": [
    "np.random.seed(500)\n",
    "my_arr_6 = np.random.randint(1,15, size = (2,3))\n",
    "print(my_arr_6)\n",
    "my_arr_7 = np.random.randint(10,20, size = (3,2))\n",
    "print(my_arr_7)\n",
    "print(np.dot(my_arr_6, my_arr_7, out=None))"
   ]
  },
  {
   "cell_type": "code",
   "execution_count": null,
   "id": "1b92643e",
   "metadata": {},
   "outputs": [],
   "source": [
    "np.random.seed(850)\n",
    "my_arr_4 = np.random.randint(1,10, size = (5,3))\n",
    "print(my_arr_4)\n",
    "my_arr_5 = np.random.randint(1,5, size = (5,3))\n",
    "print(my_arr_5)\n",
    "print(my_arr_4 * my_arr_5)"
   ]
  },
  {
   "cell_type": "code",
   "execution_count": null,
   "id": "1f2182a6",
   "metadata": {},
   "outputs": [],
   "source": [
    "np.random.seed(100)\n",
    "my_arr_3 = np.random.randint(10,50, size = (4,3))\n",
    "print(my_arr_3)\n",
    "print(my_arr_3 / 2)"
   ]
  },
  {
   "cell_type": "markdown",
   "id": "b3cce8f1",
   "metadata": {},
   "source": [
    "## Boolean or Mask index array"
   ]
  },
  {
   "cell_type": "code",
   "execution_count": null,
   "id": "29864646",
   "metadata": {},
   "outputs": [],
   "source": [
    "np.random.seed(543)\n",
    "my_arr_2 = np.random.randint(1,25,size=(8,2))\n",
    "print(my_arr_2)\n",
    "my_arr_2_mean = my_arr_2.mean()\n",
    "print(\"Mean: \", my_arr_2_mean)"
   ]
  },
  {
   "cell_type": "code",
   "execution_count": null,
   "id": "ef1efaec",
   "metadata": {},
   "outputs": [],
   "source": [
    "my_arr_2[my_arr_2 < my_arr_2_mean] = my_arr_2_mean\n",
    "my_arr_2"
   ]
  },
  {
   "cell_type": "markdown",
   "id": "11b976a5",
   "metadata": {},
   "source": [
    "## Working with ndarrays"
   ]
  },
  {
   "cell_type": "code",
   "execution_count": null,
   "id": "a632764a",
   "metadata": {},
   "outputs": [],
   "source": [
    "my_array_1 = np.random.rand(5)\n",
    "print(my_array_1)\n",
    "indices = np.array([1,1,2,3])\n",
    "print(my_array_1[indices])"
   ]
  },
  {
   "cell_type": "code",
   "execution_count": null,
   "id": "c96b76f8",
   "metadata": {},
   "outputs": [],
   "source": [
    "an_array = np.random.randint(0,25, size = (5,4))\n",
    "an_array"
   ]
  },
  {
   "cell_type": "code",
   "execution_count": null,
   "id": "b35462c0",
   "metadata": {},
   "outputs": [],
   "source": [
    "an_array[0,0] = 1\n",
    "an_array"
   ]
  },
  {
   "cell_type": "markdown",
   "id": "da7bdaef",
   "metadata": {},
   "source": [
    "## How fast is NumPy?"
   ]
  },
  {
   "cell_type": "code",
   "execution_count": null,
   "id": "f7006d98",
   "metadata": {},
   "outputs": [],
   "source": [
    "# Creating BIG array\n",
    "my_big_array = np.random.randint(0,25, size =(1000,10000))"
   ]
  },
  {
   "cell_type": "code",
   "execution_count": null,
   "id": "8f2b74d0",
   "metadata": {},
   "outputs": [],
   "source": [
    "# Compute mean of array elements manually by iteration\n",
    "def manual_mean(big_arr):\n",
    "    sum = 0\n",
    "    for i in range(big_arr.shape[0]):\n",
    "        for j in range(big_arr.shape[1]):\n",
    "            sum += big_arr[i,j]\n",
    "    print(\"Manual Mean: \", (sum / big_arr.size))"
   ]
  },
  {
   "cell_type": "code",
   "execution_count": null,
   "id": "d8a24614",
   "metadata": {},
   "outputs": [],
   "source": [
    "manual_mean(my_big_array)"
   ]
  },
  {
   "cell_type": "code",
   "execution_count": null,
   "id": "a4f8bd7b",
   "metadata": {},
   "outputs": [],
   "source": [
    "# Compute mean of array elements by use of NumPy function\n",
    "def numpy_mean(big_arr):\n",
    "    print(\"NumPy Mean: \",big_arr.mean())"
   ]
  },
  {
   "cell_type": "code",
   "execution_count": null,
   "id": "ee30497c",
   "metadata": {},
   "outputs": [],
   "source": [
    "numpy_mean(my_big_array)"
   ]
  },
  {
   "cell_type": "code",
   "execution_count": null,
   "id": "9ef97856",
   "metadata": {},
   "outputs": [],
   "source": [
    "# Compare times taken to compute means\n",
    "t1 = time.time()\n",
    "manual_mean(my_big_array)\n",
    "t2 = time.time()\n",
    "d1 = t2 - t1\n",
    "print(\"Manual computation took: {}\".format(d1))\n",
    "\n",
    "t3 = time.time()\n",
    "numpy_mean(my_big_array)\n",
    "t4 = time.time()\n",
    "d2 = t4-t3\n",
    "print(\"NumPy mean took: {}\".format(d2))\n",
    "\n",
    "print(\"\\nDifference is of value: {}\".format(d1/d2))"
   ]
  },
  {
   "cell_type": "markdown",
   "id": "69456f7b",
   "metadata": {},
   "source": [
    "## Time function"
   ]
  },
  {
   "cell_type": "code",
   "execution_count": null,
   "id": "e66bbcfc",
   "metadata": {},
   "outputs": [],
   "source": [
    "## Timing functions\n",
    "t1 = time.time()\n",
    "print(\"Fuck you :D \")\n",
    "t2 = time.time()\n",
    "print(\"Prnt operation took: \", t2-t1)"
   ]
  },
  {
   "cell_type": "markdown",
   "id": "1b3fac3f",
   "metadata": {},
   "source": [
    "## operations on ndarrays"
   ]
  },
  {
   "cell_type": "code",
   "execution_count": null,
   "id": "0023ca57",
   "metadata": {},
   "outputs": [],
   "source": [
    "np.random.seed(543)\n",
    "my_a = np.random.randint(0,25, size=(5,3))\n",
    "print(\"My Array :\\n\",my_a)"
   ]
  },
  {
   "cell_type": "code",
   "execution_count": null,
   "id": "c01dd691",
   "metadata": {},
   "outputs": [],
   "source": [
    "print(\"Sum of all elements:\\n\",my_a.sum())"
   ]
  },
  {
   "cell_type": "code",
   "execution_count": null,
   "id": "cf20569a",
   "metadata": {},
   "outputs": [],
   "source": [
    "print(my_a.sum(axis=0))"
   ]
  },
  {
   "cell_type": "code",
   "execution_count": null,
   "id": "e0ee849b",
   "metadata": {},
   "outputs": [],
   "source": [
    "print(my_a.sum(axis=1))"
   ]
  },
  {
   "cell_type": "code",
   "execution_count": null,
   "id": "fc7bec0f",
   "metadata": {},
   "outputs": [],
   "source": [
    "print(my_a.min(axis=1))"
   ]
  },
  {
   "cell_type": "code",
   "execution_count": null,
   "id": "cd163d96",
   "metadata": {},
   "outputs": [],
   "source": [
    "print(my_a.mean())"
   ]
  },
  {
   "cell_type": "markdown",
   "id": "8b1498e2",
   "metadata": {},
   "source": [
    "## Create arrays"
   ]
  },
  {
   "cell_type": "code",
   "execution_count": null,
   "id": "374d97f4",
   "metadata": {},
   "outputs": [],
   "source": [
    "np.empty(5)"
   ]
  },
  {
   "cell_type": "code",
   "execution_count": null,
   "id": "9dbc8f13",
   "metadata": {},
   "outputs": [],
   "source": [
    "np.empty((4,3))"
   ]
  },
  {
   "cell_type": "code",
   "execution_count": null,
   "id": "cbefbe54",
   "metadata": {},
   "outputs": [],
   "source": [
    "np.empty((4,3,5))"
   ]
  },
  {
   "cell_type": "code",
   "execution_count": null,
   "id": "51dcd6a4",
   "metadata": {},
   "outputs": [],
   "source": [
    "np.ones((4,5))"
   ]
  },
  {
   "cell_type": "code",
   "execution_count": null,
   "id": "f8def54e",
   "metadata": {},
   "outputs": [],
   "source": [
    "np.random.normal(size = (3,2))"
   ]
  },
  {
   "cell_type": "code",
   "execution_count": null,
   "id": "a19d99bd",
   "metadata": {},
   "outputs": [],
   "source": [
    "np.random.normal(50,10,size=(5,3))"
   ]
  },
  {
   "cell_type": "code",
   "execution_count": null,
   "id": "7ef258ba",
   "metadata": {},
   "outputs": [],
   "source": [
    "a = np.random.randint(0,10,size=(5,3))"
   ]
  },
  {
   "cell_type": "code",
   "execution_count": null,
   "id": "f6aa43bd",
   "metadata": {},
   "outputs": [],
   "source": [
    "a.shape"
   ]
  },
  {
   "cell_type": "markdown",
   "id": "57c669f4",
   "metadata": {},
   "source": [
    "## NumPy array access and slicing"
   ]
  },
  {
   "cell_type": "code",
   "execution_count": null,
   "id": "90a8b441",
   "metadata": {},
   "outputs": [],
   "source": [
    "nd1 = np.random.rand(8,5)\n",
    "#nd1"
   ]
  },
  {
   "cell_type": "code",
   "execution_count": null,
   "id": "1029277c",
   "metadata": {},
   "outputs": [],
   "source": [
    "nd1[-1,1:4]"
   ]
  },
  {
   "cell_type": "markdown",
   "id": "779eb325",
   "metadata": {},
   "source": [
    "## Normalising and plotting multiple columns"
   ]
  },
  {
   "cell_type": "code",
   "execution_count": null,
   "id": "d80e19e2",
   "metadata": {},
   "outputs": [],
   "source": [
    "df_normalised = df1 / df1.loc['2010-01-04',:]"
   ]
  },
  {
   "cell_type": "code",
   "execution_count": null,
   "id": "94a57284",
   "metadata": {},
   "outputs": [],
   "source": [
    "#df_normalised"
   ]
  },
  {
   "cell_type": "code",
   "execution_count": null,
   "id": "d56613db",
   "metadata": {},
   "outputs": [],
   "source": [
    "symbols = ['SPY','IBM','GOOG', 'GLD']\n",
    "\n",
    "for symbol in symbols:\n",
    "    plt.plot(df_normalised[symbol], label=symbol)\n",
    "\n",
    "plt.title(\"Stock Prices\")\n",
    "plt.grid()\n",
    "plt.xlabel(\"Date\")\n",
    "plt.ylabel(\"Price\")\n",
    "plt.legend()\n"
   ]
  },
  {
   "cell_type": "markdown",
   "id": "f327d501",
   "metadata": {},
   "source": [
    "## Plotting multiple column data"
   ]
  },
  {
   "cell_type": "code",
   "execution_count": null,
   "id": "7b9b903e",
   "metadata": {},
   "outputs": [],
   "source": [
    "# Plot stock prices\n",
    "\n",
    "symbols = ['SPY','IBM','GOOG', 'GLD']\n",
    "\n",
    "for symbol in symbols:\n",
    "    plt.plot(df1[symbol], label=symbol)\n",
    "\n",
    "plt.title(\"Stock Prices\")\n",
    "plt.xlabel(\"Date\")\n",
    "plt.ylabel(\"Price\")\n",
    "plt.legend()\n"
   ]
  },
  {
   "cell_type": "markdown",
   "id": "6deae770",
   "metadata": {},
   "source": [
    "## join multiple dataframes, ensuring dates match each other"
   ]
  },
  {
   "cell_type": "code",
   "execution_count": null,
   "id": "b64cdd06",
   "metadata": {},
   "outputs": [],
   "source": [
    "# Define date range\n",
    "start_date = '2010-01-01'\n",
    "end_date = '2010-12-31'\n",
    "dates = pd.date_range(start_date,end_date)\n",
    "    \n",
    "# Create an empty dataframe\n",
    "df1 = pd.DataFrame(index = dates)\n",
    "    \n",
    "# Read SPY data into temporary dataframe   \n",
    "dfSPY = pd.read_csv(\"csv_data/SPY.csv\", index_col = \"Date\", \n",
    "                    parse_dates=True, usecols = ['Date','Adj Close'],\n",
    "                    na_values=['nan'])                  \n",
    "    \n",
    "# Rename 'Adj Close' column to 'SPY' to prevent clash   \n",
    "dfSPY = dfSPY.rename(columns={'Adj Close':'SPY'})\n",
    "    \n",
    "# Join the two DataFrames using DataFrame.join()\n",
    "df1 = df1.join(dfSPY, how = 'inner')\n",
    "    \n",
    "# Drop the NaN values\n",
    "df1 = df1.dropna()\n",
    "\n",
    "# Read more stocks\n",
    "symbols = ['AAPL', 'EUR=X', 'GLD', 'GOOG', 'IBM']\n",
    "for symbol in symbols:\n",
    "    df_temp = pd.read_csv(\"csv_data/{}.csv\".format(symbol), index_col = \"Date\", \n",
    "                    parse_dates=True, usecols = ['Date','Adj Close'],\n",
    "                    na_values=['nan'])\n",
    "    df_temp = df_temp.rename(columns={'Adj Close' : symbol})\n",
    "    df1 = df1.join(df_temp) # use default how='left'\n",
    "    \n",
    "#print(df1)"
   ]
  },
  {
   "cell_type": "code",
   "execution_count": null,
   "id": "83076dd5",
   "metadata": {},
   "outputs": [],
   "source": [
    "#df1.loc['2010-01-01' : '2010-01-31']"
   ]
  },
  {
   "cell_type": "code",
   "execution_count": null,
   "id": "831e4313",
   "metadata": {},
   "outputs": [],
   "source": [
    "#df1.loc['2010-01-01' : '2010-01-31', ['SPY','IBM']]"
   ]
  },
  {
   "cell_type": "markdown",
   "id": "76ea4446",
   "metadata": {},
   "source": [
    "## Read csv file"
   ]
  },
  {
   "cell_type": "code",
   "execution_count": null,
   "id": "9e353f52",
   "metadata": {},
   "outputs": [],
   "source": [
    "df = pd.read_csv(\"csv_data/SPY.csv\")\n",
    "#df"
   ]
  },
  {
   "cell_type": "markdown",
   "id": "b4863e6c",
   "metadata": {},
   "source": [
    "## Find max close value"
   ]
  },
  {
   "cell_type": "code",
   "execution_count": null,
   "id": "3106b4c6",
   "metadata": {},
   "outputs": [],
   "source": [
    "def get_max_close(symbol):\n",
    "    df = pd.read_csv(\"csv_data/{}.csv\".format(symbol))\n",
    "    return df['Close'].max()"
   ]
  },
  {
   "cell_type": "code",
   "execution_count": null,
   "id": "d6063d94",
   "metadata": {},
   "outputs": [],
   "source": [
    "get_max_close('SPY')"
   ]
  },
  {
   "cell_type": "markdown",
   "id": "07d701b4",
   "metadata": {},
   "source": [
    "## plot values of Apple stock"
   ]
  },
  {
   "cell_type": "code",
   "execution_count": null,
   "id": "609246ef",
   "metadata": {},
   "outputs": [],
   "source": [
    "df = pd.read_csv(\"csv_data/AAPL.csv\")\n",
    "df['Adj Close']\n",
    "plt.plot(df['Adj Close'])"
   ]
  },
  {
   "cell_type": "markdown",
   "id": "081cca4f",
   "metadata": {},
   "source": [
    "## plot Close and Adj Close values"
   ]
  },
  {
   "cell_type": "code",
   "execution_count": null,
   "id": "1ba241a9",
   "metadata": {},
   "outputs": [],
   "source": [
    "df = pd.read_csv(\"csv_data/AAPL.csv\")\n",
    "#df"
   ]
  },
  {
   "cell_type": "code",
   "execution_count": null,
   "id": "054c5a9d",
   "metadata": {},
   "outputs": [],
   "source": [
    "df_1 = df[['Close','Adj Close']]"
   ]
  },
  {
   "cell_type": "code",
   "execution_count": null,
   "id": "edb7cc6a",
   "metadata": {},
   "outputs": [],
   "source": [
    "plt.plot(df[['Close' , 'Adj Close']])"
   ]
  },
  {
   "cell_type": "code",
   "execution_count": null,
   "id": "0c7bdd97",
   "metadata": {},
   "outputs": [],
   "source": []
  },
  {
   "cell_type": "code",
   "execution_count": null,
   "id": "90152b0f",
   "metadata": {},
   "outputs": [],
   "source": []
  }
 ],
 "metadata": {
  "kernelspec": {
   "display_name": "Python 3 (ipykernel)",
   "language": "python",
   "name": "python3"
  },
  "language_info": {
   "codemirror_mode": {
    "name": "ipython",
    "version": 3
   },
   "file_extension": ".py",
   "mimetype": "text/x-python",
   "name": "python",
   "nbconvert_exporter": "python",
   "pygments_lexer": "ipython3",
   "version": "3.8.10"
  }
 },
 "nbformat": 4,
 "nbformat_minor": 5
}
