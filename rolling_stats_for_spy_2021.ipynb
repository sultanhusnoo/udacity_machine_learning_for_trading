{
 "cells": [
  {
   "cell_type": "code",
   "execution_count": 23,
   "id": "0a8846a6",
   "metadata": {},
   "outputs": [],
   "source": [
    "import pandas as pd\n",
    "import matplotlib.pyplot as plt\n",
    "%matplotlib inline\n",
    "import numpy as np\n",
    "import time"
   ]
  },
  {
   "cell_type": "code",
   "execution_count": null,
   "id": "674f3d68",
   "metadata": {},
   "outputs": [],
   "source": []
  },
  {
   "cell_type": "markdown",
   "id": "30948254",
   "metadata": {},
   "source": [
    "## Open complete csv file for 2021 SPY data"
   ]
  },
  {
   "cell_type": "code",
   "execution_count": 33,
   "id": "89c65e9a",
   "metadata": {},
   "outputs": [],
   "source": [
    "orig_df = pd.read_csv(\"csv_data/SPY_2021.csv\")\n",
    "#orig_df"
   ]
  },
  {
   "cell_type": "code",
   "execution_count": 71,
   "id": "5acf435c",
   "metadata": {},
   "outputs": [],
   "source": [
    "#plt.plot(orig_df['Adj Close'])"
   ]
  },
  {
   "cell_type": "code",
   "execution_count": null,
   "id": "ae1479a1",
   "metadata": {},
   "outputs": [],
   "source": []
  },
  {
   "cell_type": "code",
   "execution_count": 67,
   "id": "08563631",
   "metadata": {},
   "outputs": [
    {
     "data": {
      "text/plain": [
       "Adj Close    False\n",
       "dtype: bool"
      ]
     },
     "execution_count": 67,
     "metadata": {},
     "output_type": "execute_result"
    }
   ],
   "source": [
    "spy_df = pd.read_csv(\"csv_data/SPY_2021.csv\", index_col='Date',\n",
    "                    parse_dates=True, usecols=['Date','Adj Close'],\n",
    "                    na_values = ['nan'])\n",
    "\n",
    "spy_df.isnull().any()\n",
    "#spy_df"
   ]
  },
  {
   "cell_type": "code",
   "execution_count": null,
   "id": "781f2b19",
   "metadata": {},
   "outputs": [],
   "source": []
  },
  {
   "cell_type": "markdown",
   "id": "3a446e88",
   "metadata": {},
   "source": [
    "## Create a dataframe for just SPY 'Adj Close' for 2021 - add rolling mean and shifted price"
   ]
  },
  {
   "cell_type": "code",
   "execution_count": 68,
   "id": "b14c3fdd",
   "metadata": {},
   "outputs": [],
   "source": [
    "shifted_df = pd.DataFrame(index=spy_df.index)\n",
    "shifted_df['SPY'] = spy_df['Adj Close']\n",
    "shifted_df['Y'] = spy_df['Adj Close']\n",
    "shifted_df['Y'] = shifted_df['Y'].shift(periods=3, fill_value=0)\n",
    "#shifted_df"
   ]
  },
  {
   "cell_type": "code",
   "execution_count": 69,
   "id": "9c81db64",
   "metadata": {},
   "outputs": [],
   "source": [
    "shifted_df['rm_5'] = shifted_df['SPY'].rolling(5).mean()\n",
    "shifted_df = shifted_df.dropna()\n",
    "#shifted_df"
   ]
  },
  {
   "cell_type": "code",
   "execution_count": 70,
   "id": "7d075349",
   "metadata": {},
   "outputs": [
    {
     "data": {
      "text/plain": [
       "[<matplotlib.lines.Line2D at 0x7fec3034fb20>]"
      ]
     },
     "execution_count": 70,
     "metadata": {},
     "output_type": "execute_result"
    },
    {
     "data": {
      "image/png": "[encoded data removed]",
      "text/plain": [
       "<Figure size 432x288 with 1 Axes>"
      ]
     },
     "metadata": {
      "needs_background": "light"
     },
     "output_type": "display_data"
    }
   ],
   "source": [
    "plt.plot(shifted_df['SPY'])\n",
    "plt.plot(shifted_df['rm_5'])"
   ]
  },
  {
   "cell_type": "code",
   "execution_count": null,
   "id": "8c46e286",
   "metadata": {},
   "outputs": [],
   "source": []
  },
  {
   "cell_type": "markdown",
   "id": "7d0ae5b3",
   "metadata": {},
   "source": [
    "## Take only date for Q1"
   ]
  },
  {
   "cell_type": "code",
   "execution_count": 83,
   "id": "15daacdf",
   "metadata": {},
   "outputs": [],
   "source": [
    "q1_dates = pd.date_range('2021-01-01','2021-03-31')\n",
    "#q1_dates"
   ]
  },
  {
   "cell_type": "code",
   "execution_count": 84,
   "id": "85b1df9c",
   "metadata": {},
   "outputs": [],
   "source": [
    "q1_df = pd.DataFrame(index = q1_dates)\n",
    "q1_df = q1_df.join(shifted_df, how='left')\n",
    "q1_df = q1_df.dropna()\n",
    "#q1_df"
   ]
  },
  {
   "cell_type": "code",
   "execution_count": null,
   "id": "e848ae00",
   "metadata": {},
   "outputs": [],
   "source": []
  },
  {
   "cell_type": "markdown",
   "id": "822c18a4",
   "metadata": {},
   "source": [
    "## Do some ML"
   ]
  },
  {
   "cell_type": "code",
   "execution_count": null,
   "id": "1cc5356a",
   "metadata": {},
   "outputs": [],
   "source": []
  },
  {
   "cell_type": "code",
   "execution_count": null,
   "id": "bb0b0770",
   "metadata": {},
   "outputs": [],
   "source": []
  },
  {
   "cell_type": "code",
   "execution_count": null,
   "id": "573212fc",
   "metadata": {},
   "outputs": [],
   "source": []
  },
  {
   "cell_type": "code",
   "execution_count": null,
   "id": "74269e47",
   "metadata": {},
   "outputs": [],
   "source": []
  },
  {
   "cell_type": "code",
   "execution_count": null,
   "id": "49461d7c",
   "metadata": {},
   "outputs": [],
   "source": []
  },
  {
   "cell_type": "code",
   "execution_count": null,
   "id": "2ffa9068",
   "metadata": {},
   "outputs": [],
   "source": []
  },
  {
   "cell_type": "code",
   "execution_count": null,
   "id": "15d3b78c",
   "metadata": {},
   "outputs": [],
   "source": []
  },
  {
   "cell_type": "markdown",
   "id": "4a13772b",
   "metadata": {},
   "source": [
    "# Learning shift"
   ]
  },
  {
   "cell_type": "code",
   "execution_count": 20,
   "id": "d54ab8b0",
   "metadata": {},
   "outputs": [
    {
     "data": {
      "text/html": [
       "<div>\n",
       "<style scoped>\n",
       "    .dataframe tbody tr th:only-of-type {\n",
       "        vertical-align: middle;\n",
       "    }\n",
       "\n",
       "    .dataframe tbody tr th {\n",
       "        vertical-align: top;\n",
       "    }\n",
       "\n",
       "    .dataframe thead th {\n",
       "        text-align: right;\n",
       "    }\n",
       "</style>\n",
       "<table border=\"1\" class=\"dataframe\">\n",
       "  <thead>\n",
       "    <tr style=\"text-align: right;\">\n",
       "      <th></th>\n",
       "      <th>Col1</th>\n",
       "      <th>Col2</th>\n",
       "      <th>Col3</th>\n",
       "    </tr>\n",
       "  </thead>\n",
       "  <tbody>\n",
       "    <tr>\n",
       "      <th>2020-01-01</th>\n",
       "      <td>1</td>\n",
       "      <td>2</td>\n",
       "      <td>3</td>\n",
       "    </tr>\n",
       "    <tr>\n",
       "      <th>2020-01-02</th>\n",
       "      <td>2</td>\n",
       "      <td>4</td>\n",
       "      <td>6</td>\n",
       "    </tr>\n",
       "    <tr>\n",
       "      <th>2020-01-03</th>\n",
       "      <td>3</td>\n",
       "      <td>6</td>\n",
       "      <td>9</td>\n",
       "    </tr>\n",
       "    <tr>\n",
       "      <th>2020-01-04</th>\n",
       "      <td>4</td>\n",
       "      <td>8</td>\n",
       "      <td>12</td>\n",
       "    </tr>\n",
       "    <tr>\n",
       "      <th>2020-01-05</th>\n",
       "      <td>5</td>\n",
       "      <td>10</td>\n",
       "      <td>15</td>\n",
       "    </tr>\n",
       "  </tbody>\n",
       "</table>\n",
       "</div>"
      ],
      "text/plain": [
       "            Col1  Col2  Col3\n",
       "2020-01-01     1     2     3\n",
       "2020-01-02     2     4     6\n",
       "2020-01-03     3     6     9\n",
       "2020-01-04     4     8    12\n",
       "2020-01-05     5    10    15"
      ]
     },
     "execution_count": 20,
     "metadata": {},
     "output_type": "execute_result"
    }
   ],
   "source": [
    "mydf = pd.DataFrame({\"Col1\":[1,2,3,4,5],\n",
    "                    \"Col2\":[2,4,6,8,10],\n",
    "                    \"Col3\":[3,6,9,12,15]},\n",
    "                   index = pd.date_range(\"2020-01-01\",\"2020-01-05\"))\n",
    "mydf"
   ]
  },
  {
   "cell_type": "code",
   "execution_count": 21,
   "id": "7fc0b8a8",
   "metadata": {},
   "outputs": [
    {
     "data": {
      "text/html": [
       "<div>\n",
       "<style scoped>\n",
       "    .dataframe tbody tr th:only-of-type {\n",
       "        vertical-align: middle;\n",
       "    }\n",
       "\n",
       "    .dataframe tbody tr th {\n",
       "        vertical-align: top;\n",
       "    }\n",
       "\n",
       "    .dataframe thead th {\n",
       "        text-align: right;\n",
       "    }\n",
       "</style>\n",
       "<table border=\"1\" class=\"dataframe\">\n",
       "  <thead>\n",
       "    <tr style=\"text-align: right;\">\n",
       "      <th></th>\n",
       "      <th>Col1</th>\n",
       "      <th>Col2</th>\n",
       "      <th>Col3</th>\n",
       "    </tr>\n",
       "  </thead>\n",
       "  <tbody>\n",
       "    <tr>\n",
       "      <th>2020-01-01</th>\n",
       "      <td>1</td>\n",
       "      <td>2</td>\n",
       "      <td>0</td>\n",
       "    </tr>\n",
       "    <tr>\n",
       "      <th>2020-01-02</th>\n",
       "      <td>2</td>\n",
       "      <td>4</td>\n",
       "      <td>0</td>\n",
       "    </tr>\n",
       "    <tr>\n",
       "      <th>2020-01-03</th>\n",
       "      <td>3</td>\n",
       "      <td>6</td>\n",
       "      <td>0</td>\n",
       "    </tr>\n",
       "    <tr>\n",
       "      <th>2020-01-04</th>\n",
       "      <td>4</td>\n",
       "      <td>8</td>\n",
       "      <td>3</td>\n",
       "    </tr>\n",
       "    <tr>\n",
       "      <th>2020-01-05</th>\n",
       "      <td>5</td>\n",
       "      <td>10</td>\n",
       "      <td>6</td>\n",
       "    </tr>\n",
       "  </tbody>\n",
       "</table>\n",
       "</div>"
      ],
      "text/plain": [
       "            Col1  Col2  Col3\n",
       "2020-01-01     1     2     0\n",
       "2020-01-02     2     4     0\n",
       "2020-01-03     3     6     0\n",
       "2020-01-04     4     8     3\n",
       "2020-01-05     5    10     6"
      ]
     },
     "execution_count": 21,
     "metadata": {},
     "output_type": "execute_result"
    }
   ],
   "source": [
    "mydf['Col3'] = mydf['Col3'].shift(periods=3, fill_value=0)\n",
    "mydf"
   ]
  },
  {
   "cell_type": "code",
   "execution_count": null,
   "id": "25deb06d",
   "metadata": {},
   "outputs": [],
   "source": []
  }
 ],
 "metadata": {
  "kernelspec": {
   "display_name": "Python 3 (ipykernel)",
   "language": "python",
   "name": "python3"
  },
  "language_info": {
   "codemirror_mode": {
    "name": "ipython",
    "version": 3
   },
   "file_extension": ".py",
   "mimetype": "text/x-python",
   "name": "python",
   "nbconvert_exporter": "python",
   "pygments_lexer": "ipython3",
   "version": "3.8.10"
  }
 },
 "nbformat": 4,
 "nbformat_minor": 5
}
